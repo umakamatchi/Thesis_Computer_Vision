{
 "cells": [
  {
   "cell_type": "code",
   "execution_count": 10,
   "id": "tight-holocaust",
   "metadata": {},
   "outputs": [],
   "source": [
    "import numpy as np\n",
    "import cv2\n",
    "import time"
   ]
  },
  {
   "cell_type": "code",
   "execution_count": 13,
   "id": "joined-bumper",
   "metadata": {},
   "outputs": [],
   "source": [
    "image_BGR = cv2.imread('C:\\\\Users\\\\Uma\\\\Anacondanew\\\\envs\\\\uma_tensor\\\\CNN COLOR Shallow\\\\color_img_out\\\\black_sedan.jpg')"
   ]
  },
  {
   "cell_type": "code",
   "execution_count": 15,
   "id": "broke-reproduction",
   "metadata": {},
   "outputs": [
    {
     "name": "stdout",
     "output_type": "stream",
     "text": [
      "Image shape: (1620, 2729, 3)\n"
     ]
    }
   ],
   "source": [
    "print('Image shape:', image_BGR.shape)"
   ]
  },
  {
   "cell_type": "code",
   "execution_count": 16,
   "id": "focused-artist",
   "metadata": {},
   "outputs": [],
   "source": [
    "# Getting spatial dimension of input image\n",
    "h, w = image_BGR.shape[:2]  # Slicing from tuple only first two elements"
   ]
  },
  {
   "cell_type": "code",
   "execution_count": 17,
   "id": "particular-composite",
   "metadata": {},
   "outputs": [
    {
     "name": "stdout",
     "output_type": "stream",
     "text": [
      "Image height=1620 and width=2729\n"
     ]
    }
   ],
   "source": [
    " # Showing height an width of image\n",
    "print('Image height={0} and width={1}'.format(h, w))"
   ]
  },
  {
   "cell_type": "code",
   "execution_count": 18,
   "id": "stuck-softball",
   "metadata": {},
   "outputs": [
    {
     "data": {
      "text/plain": [
       "'\\nStart of:\\nGetting blob from input image\\n'"
      ]
     },
     "execution_count": 18,
     "metadata": {},
     "output_type": "execute_result"
    }
   ],
   "source": [
    "\"\"\"\n",
    "Start of:\n",
    "Getting blob from input image\n",
    "\"\"\"\n",
    "\n",
    "# Getting blob from input image\n",
    "# The 'cv2.dnn.blobFromImage' function returns 4-dimensional blob\n",
    "# from input image after mean subtraction, normalizing, and RB channels swapping\n",
    "# Resulted shape has number of images, number of channels, width and height\n",
    "# E.G.:\n",
    "# blob = cv2.dnn.blobFromImage(image, scalefactor=1.0, size, mean, swapRB=True)"
   ]
  },
  {
   "cell_type": "code",
   "execution_count": 19,
   "id": "cardiovascular-first",
   "metadata": {},
   "outputs": [],
   "source": [
    "blob = cv2.dnn.blobFromImage(image_BGR, 1 / 255.0, (416, 416),\n",
    "                             swapRB=True, crop=False)"
   ]
  },
  {
   "cell_type": "code",
   "execution_count": 20,
   "id": "literary-thesis",
   "metadata": {},
   "outputs": [
    {
     "name": "stdout",
     "output_type": "stream",
     "text": [
      "Image shape: (1620, 2729, 3)\n"
     ]
    }
   ],
   "source": [
    "print('Image shape:', image_BGR.shape)"
   ]
  },
  {
   "cell_type": "code",
   "execution_count": 21,
   "id": "beginning-cleveland",
   "metadata": {},
   "outputs": [
    {
     "name": "stdout",
     "output_type": "stream",
     "text": [
      "Blob shape: (1, 3, 416, 416)\n"
     ]
    }
   ],
   "source": [
    "print('Blob shape:', blob.shape)"
   ]
  },
  {
   "cell_type": "code",
   "execution_count": 22,
   "id": "divided-still",
   "metadata": {},
   "outputs": [],
   "source": [
    "blob_to_show = blob[0, :, :, :].transpose(1, 2, 0)"
   ]
  },
  {
   "cell_type": "code",
   "execution_count": 23,
   "id": "square-tissue",
   "metadata": {},
   "outputs": [
    {
     "name": "stdout",
     "output_type": "stream",
     "text": [
      "(416, 416, 3)\n"
     ]
    }
   ],
   "source": [
    "print(blob_to_show.shape)"
   ]
  },
  {
   "cell_type": "code",
   "execution_count": 24,
   "id": "moral-impossible",
   "metadata": {},
   "outputs": [],
   "source": [
    "cv2.namedWindow('Blob Image', cv2.WINDOW_NORMAL)"
   ]
  },
  {
   "cell_type": "code",
   "execution_count": 25,
   "id": "pretty-burner",
   "metadata": {},
   "outputs": [],
   "source": [
    "cv2.imshow('Blob Image', cv2.cvtColor(blob_to_show, cv2.COLOR_RGB2BGR))"
   ]
  },
  {
   "cell_type": "code",
   "execution_count": 29,
   "id": "reflected-compiler",
   "metadata": {},
   "outputs": [
    {
     "data": {
      "text/plain": [
       "'\\nStart of:\\nLoading YOLO v3 network\\n'"
      ]
     },
     "execution_count": 29,
     "metadata": {},
     "output_type": "execute_result"
    }
   ],
   "source": [
    "\n",
    "\"\"\"\n",
    "Start of:\n",
    "Loading YOLO v3 network\n",
    "\"\"\"\n"
   ]
  },
  {
   "cell_type": "code",
   "execution_count": 32,
   "id": "adult-democracy",
   "metadata": {},
   "outputs": [],
   "source": [
    "with open('yolo-coco/coco.names') as f:\n",
    "    # Getting labels reading every line\n",
    "    # and putting them into the list\n",
    "    labels = [line.strip() for line in f]"
   ]
  },
  {
   "cell_type": "code",
   "execution_count": 33,
   "id": "excess-arrow",
   "metadata": {},
   "outputs": [
    {
     "name": "stdout",
     "output_type": "stream",
     "text": [
      "List with labels names:\n",
      "['person', 'bicycle', 'car', 'motorbike', 'aeroplane', 'bus', 'train', 'truck', 'boat', 'traffic light', 'fire hydrant', 'stop sign', 'parking meter', 'bench', 'bird', 'cat', 'dog', 'horse', 'sheep', 'cow', 'elephant', 'bear', 'zebra', 'giraffe', 'backpack', 'umbrella', 'handbag', 'tie', 'suitcase', 'frisbee', 'skis', 'snowboard', 'sports ball', 'kite', 'baseball bat', 'baseball glove', 'skateboard', 'surfboard', 'tennis racket', 'bottle', 'wine glass', 'cup', 'fork', 'knife', 'spoon', 'bowl', 'banana', 'apple', 'sandwich', 'orange', 'broccoli', 'carrot', 'hot dog', 'pizza', 'donut', 'cake', 'chair', 'sofa', 'pottedplant', 'bed', 'diningtable', 'toilet', 'tvmonitor', 'laptop', 'mouse', 'remote', 'keyboard', 'cell phone', 'microwave', 'oven', 'toaster', 'sink', 'refrigerator', 'book', 'clock', 'vase', 'scissors', 'teddy bear', 'hair drier', 'toothbrush']\n"
     ]
    }
   ],
   "source": [
    "# # Check point\n",
    "print('List with labels names:')\n",
    "print(labels)\n"
   ]
  },
  {
   "cell_type": "code",
   "execution_count": 34,
   "id": "occupational-director",
   "metadata": {},
   "outputs": [],
   "source": [
    "# Loading trained YOLO v3 Objects Detector\n",
    "# with the help of 'dnn' library from OpenCV\n",
    "network = cv2.dnn.readNetFromDarknet('yolo-coco/yolov3.cfg',\n",
    "                                     'yolo-coco/yolov3.weights')"
   ]
  },
  {
   "cell_type": "code",
   "execution_count": 35,
   "id": "relevant-afghanistan",
   "metadata": {},
   "outputs": [
    {
     "name": "stdout",
     "output_type": "stream",
     "text": [
      "\n",
      "['conv_0', 'bn_0', 'relu_0', 'conv_1', 'bn_1', 'relu_1', 'conv_2', 'bn_2', 'relu_2', 'conv_3', 'bn_3', 'relu_3', 'shortcut_4', 'conv_5', 'bn_5', 'relu_5', 'conv_6', 'bn_6', 'relu_6', 'conv_7', 'bn_7', 'relu_7', 'shortcut_8', 'conv_9', 'bn_9', 'relu_9', 'conv_10', 'bn_10', 'relu_10', 'shortcut_11', 'conv_12', 'bn_12', 'relu_12', 'conv_13', 'bn_13', 'relu_13', 'conv_14', 'bn_14', 'relu_14', 'shortcut_15', 'conv_16', 'bn_16', 'relu_16', 'conv_17', 'bn_17', 'relu_17', 'shortcut_18', 'conv_19', 'bn_19', 'relu_19', 'conv_20', 'bn_20', 'relu_20', 'shortcut_21', 'conv_22', 'bn_22', 'relu_22', 'conv_23', 'bn_23', 'relu_23', 'shortcut_24', 'conv_25', 'bn_25', 'relu_25', 'conv_26', 'bn_26', 'relu_26', 'shortcut_27', 'conv_28', 'bn_28', 'relu_28', 'conv_29', 'bn_29', 'relu_29', 'shortcut_30', 'conv_31', 'bn_31', 'relu_31', 'conv_32', 'bn_32', 'relu_32', 'shortcut_33', 'conv_34', 'bn_34', 'relu_34', 'conv_35', 'bn_35', 'relu_35', 'shortcut_36', 'conv_37', 'bn_37', 'relu_37', 'conv_38', 'bn_38', 'relu_38', 'conv_39', 'bn_39', 'relu_39', 'shortcut_40', 'conv_41', 'bn_41', 'relu_41', 'conv_42', 'bn_42', 'relu_42', 'shortcut_43', 'conv_44', 'bn_44', 'relu_44', 'conv_45', 'bn_45', 'relu_45', 'shortcut_46', 'conv_47', 'bn_47', 'relu_47', 'conv_48', 'bn_48', 'relu_48', 'shortcut_49', 'conv_50', 'bn_50', 'relu_50', 'conv_51', 'bn_51', 'relu_51', 'shortcut_52', 'conv_53', 'bn_53', 'relu_53', 'conv_54', 'bn_54', 'relu_54', 'shortcut_55', 'conv_56', 'bn_56', 'relu_56', 'conv_57', 'bn_57', 'relu_57', 'shortcut_58', 'conv_59', 'bn_59', 'relu_59', 'conv_60', 'bn_60', 'relu_60', 'shortcut_61', 'conv_62', 'bn_62', 'relu_62', 'conv_63', 'bn_63', 'relu_63', 'conv_64', 'bn_64', 'relu_64', 'shortcut_65', 'conv_66', 'bn_66', 'relu_66', 'conv_67', 'bn_67', 'relu_67', 'shortcut_68', 'conv_69', 'bn_69', 'relu_69', 'conv_70', 'bn_70', 'relu_70', 'shortcut_71', 'conv_72', 'bn_72', 'relu_72', 'conv_73', 'bn_73', 'relu_73', 'shortcut_74', 'conv_75', 'bn_75', 'relu_75', 'conv_76', 'bn_76', 'relu_76', 'conv_77', 'bn_77', 'relu_77', 'conv_78', 'bn_78', 'relu_78', 'conv_79', 'bn_79', 'relu_79', 'conv_80', 'bn_80', 'relu_80', 'conv_81', 'permute_82', 'yolo_82', 'identity_83', 'conv_84', 'bn_84', 'relu_84', 'upsample_85', 'concat_86', 'conv_87', 'bn_87', 'relu_87', 'conv_88', 'bn_88', 'relu_88', 'conv_89', 'bn_89', 'relu_89', 'conv_90', 'bn_90', 'relu_90', 'conv_91', 'bn_91', 'relu_91', 'conv_92', 'bn_92', 'relu_92', 'conv_93', 'permute_94', 'yolo_94', 'identity_95', 'conv_96', 'bn_96', 'relu_96', 'upsample_97', 'concat_98', 'conv_99', 'bn_99', 'relu_99', 'conv_100', 'bn_100', 'relu_100', 'conv_101', 'bn_101', 'relu_101', 'conv_102', 'bn_102', 'relu_102', 'conv_103', 'bn_103', 'relu_103', 'conv_104', 'bn_104', 'relu_104', 'conv_105', 'permute_106', 'yolo_106']\n"
     ]
    }
   ],
   "source": [
    "# Getting list with names of all layers from YOLO v3 network\n",
    "layers_names_all = network.getLayerNames()\n",
    "\n",
    "# # Check point\n",
    "print()\n",
    "print(layers_names_all)"
   ]
  },
  {
   "cell_type": "code",
   "execution_count": 36,
   "id": "deadly-liquid",
   "metadata": {},
   "outputs": [
    {
     "name": "stdout",
     "output_type": "stream",
     "text": [
      "\n",
      "['yolo_82', 'yolo_94', 'yolo_106']\n"
     ]
    }
   ],
   "source": [
    "# Getting only output layers' names that we need from YOLO v3 algorithm\n",
    "# with function that returns indexes of layers with unconnected outputs\n",
    "layers_names_output = \\\n",
    "    [layers_names_all[i[0] - 1] for i in network.getUnconnectedOutLayers()]\n",
    "\n",
    "# # Check point\n",
    "print()\n",
    "print(layers_names_output)  \n"
   ]
  },
  {
   "cell_type": "code",
   "execution_count": 37,
   "id": "romantic-stroke",
   "metadata": {},
   "outputs": [],
   "source": [
    "# Setting minimum probability to eliminate weak predictions\n",
    "probability_minimum = 0.5\n"
   ]
  },
  {
   "cell_type": "code",
   "execution_count": 38,
   "id": "hindu-transmission",
   "metadata": {},
   "outputs": [],
   "source": [
    "# Setting threshold for filtering weak bounding boxes\n",
    "# with non-maximum suppression\n",
    "threshold = 0.3"
   ]
  },
  {
   "cell_type": "code",
   "execution_count": 39,
   "id": "robust-shannon",
   "metadata": {},
   "outputs": [],
   "source": [
    "# Generating colours for representing every detected object\n",
    "# with function randint(low, high=None, size=None, dtype='l')\n",
    "colours = np.random.randint(0, 255, size=(len(labels), 3), dtype='uint8')\n"
   ]
  },
  {
   "cell_type": "code",
   "execution_count": 40,
   "id": "arranged-myanmar",
   "metadata": {},
   "outputs": [
    {
     "name": "stdout",
     "output_type": "stream",
     "text": [
      "\n",
      "<class 'numpy.ndarray'>\n",
      "(80, 3)\n",
      "[181 147 132]\n"
     ]
    }
   ],
   "source": [
    "# # Check point\n",
    "print()\n",
    "print(type(colours))  # <class 'numpy.ndarray'>\n",
    "print(colours.shape) \n",
    "print(colours[0])  \n"
   ]
  },
  {
   "cell_type": "code",
   "execution_count": 41,
   "id": "curious-battery",
   "metadata": {},
   "outputs": [
    {
     "data": {
      "text/plain": [
       "'\\nEnd of:\\nLoading YOLO v3 network\\n'"
      ]
     },
     "execution_count": 41,
     "metadata": {},
     "output_type": "execute_result"
    }
   ],
   "source": [
    "\"\"\"\n",
    "End of:\n",
    "Loading YOLO v3 network\n",
    "\"\"\""
   ]
  },
  {
   "cell_type": "code",
   "execution_count": 42,
   "id": "recreational-edgar",
   "metadata": {},
   "outputs": [
    {
     "data": {
      "text/plain": [
       "'\\nStart of:\\nImplementing Forward pass\\n'"
      ]
     },
     "execution_count": 42,
     "metadata": {},
     "output_type": "execute_result"
    }
   ],
   "source": [
    "\n",
    "\"\"\"\n",
    "Start of:\n",
    "Implementing Forward pass\n",
    "\"\"\""
   ]
  },
  {
   "cell_type": "code",
   "execution_count": 43,
   "id": "textile-mayor",
   "metadata": {},
   "outputs": [
    {
     "name": "stdout",
     "output_type": "stream",
     "text": [
      "Objects Detection took 0.69388 seconds\n"
     ]
    }
   ],
   "source": [
    "# Implementing forward pass with our blob and only through output layers\n",
    "# Calculating at the same time, needed time for forward pass\n",
    "network.setInput(blob)  # setting blob as input to the network\n",
    "start = time.time()\n",
    "output_from_network = network.forward(layers_names_output)\n",
    "end = time.time()\n",
    "\n",
    "# Showing spent time for forward pass\n",
    "print('Objects Detection took {:.5f} seconds'.format(end - start))\n"
   ]
  },
  {
   "cell_type": "code",
   "execution_count": 44,
   "id": "portuguese-universal",
   "metadata": {},
   "outputs": [
    {
     "data": {
      "text/plain": [
       "'\\nEnd of:\\nImplementing Forward pass\\n'"
      ]
     },
     "execution_count": 44,
     "metadata": {},
     "output_type": "execute_result"
    }
   ],
   "source": [
    "\"\"\"\n",
    "End of:\n",
    "Implementing Forward pass\n",
    "\"\"\""
   ]
  },
  {
   "cell_type": "code",
   "execution_count": 45,
   "id": "confident-catalog",
   "metadata": {},
   "outputs": [
    {
     "data": {
      "text/plain": [
       "'\\nStart of:\\nGetting bounding boxes\\n'"
      ]
     },
     "execution_count": 45,
     "metadata": {},
     "output_type": "execute_result"
    }
   ],
   "source": [
    "\n",
    "\"\"\"\n",
    "Start of:\n",
    "Getting bounding boxes\n",
    "\"\"\"\n"
   ]
  },
  {
   "cell_type": "code",
   "execution_count": 46,
   "id": "divine-spouse",
   "metadata": {},
   "outputs": [],
   "source": [
    "# Preparing lists for detected bounding boxes,\n",
    "# obtained confidences and class's number\n",
    "bounding_boxes = []\n",
    "confidences = []\n",
    "class_numbers = []"
   ]
  },
  {
   "cell_type": "code",
   "execution_count": 47,
   "id": "meaningful-result",
   "metadata": {},
   "outputs": [],
   "source": [
    "# Going through all output layers after feed forward pass\n",
    "for result in output_from_network:\n",
    "    # Going through all detections from current output layer\n",
    "    for detected_objects in result:\n",
    "        # Getting 80 classes' probabilities for current detected object\n",
    "        scores = detected_objects[5:]\n",
    "        # Getting index of the class with the maximum value of probability\n",
    "        class_current = np.argmax(scores)\n",
    "        # Getting value of probability for defined class\n",
    "        confidence_current = scores[class_current]\n",
    "        # Eliminating weak predictions with minimum probability\n",
    "        if confidence_current > probability_minimum:\n",
    "            # Scaling bounding box coordinates to the initial image size\n",
    "            # YOLO data format keeps coordinates for center of bounding box \n",
    "            #and its current width and height\n",
    "            # That is why we can just multiply them elementwise\n",
    "            # to the width and height\n",
    "            # of the original image and in this way get coordinates for center\n",
    "            # of bounding box, its width and height for original image\n",
    "            box_current = detected_objects[0:4] * np.array([w, h, w, h])\n",
    "\n",
    "            # Now, from YOLO data format, we can get top left corner coordinates\n",
    "            # that are x_min and y_min\n",
    "            x_center, y_center, box_width, box_height = box_current\n",
    "            x_min = int(x_center - (box_width / 2))\n",
    "            y_min = int(y_center - (box_height / 2))\n",
    "\n",
    "            # Adding results into prepared lists\n",
    "            bounding_boxes.append([x_min, y_min, int(box_width), int(box_height)])\n",
    "            confidences.append(float(confidence_current))\n",
    "            class_numbers.append(class_current)\n"
   ]
  },
  {
   "cell_type": "code",
   "execution_count": 48,
   "id": "large-gates",
   "metadata": {},
   "outputs": [
    {
     "data": {
      "text/plain": [
       "'\\nEnd of:\\nGetting bounding boxes\\n'"
      ]
     },
     "execution_count": 48,
     "metadata": {},
     "output_type": "execute_result"
    }
   ],
   "source": [
    "\n",
    "\"\"\"\n",
    "End of:\n",
    "Getting bounding boxes\n",
    "\"\"\""
   ]
  },
  {
   "cell_type": "code",
   "execution_count": 49,
   "id": "transparent-vertex",
   "metadata": {},
   "outputs": [
    {
     "data": {
      "text/plain": [
       "'\\nEnd of:\\nNon-maximum suppression\\n'"
      ]
     },
     "execution_count": 49,
     "metadata": {},
     "output_type": "execute_result"
    }
   ],
   "source": [
    "\"\"\"\n",
    "Start of:\n",
    "Non-maximum suppression\n",
    "\"\"\"\n",
    "\n",
    "# Implementing non-maximum suppression of given bounding boxes\n",
    "# With this technique we exclude some of bounding boxes if their\n",
    "# corresponding confidences are low or there is another\n",
    "# bounding box for this region with higher confidence\n",
    "\n",
    "# It is needed to make sure that data type of the boxes is 'int'\n",
    "# and data type of the confidences is 'float'\n",
    "# https://github.com/opencv/opencv/issues/12789\n",
    "results = cv2.dnn.NMSBoxes(bounding_boxes, confidences,\n",
    "                           probability_minimum, threshold)\n",
    "\n",
    "\"\"\"\n",
    "End of:\n",
    "Non-maximum suppression\n",
    "\"\"\"\n"
   ]
  },
  {
   "cell_type": "code",
   "execution_count": 50,
   "id": "played-parameter",
   "metadata": {},
   "outputs": [
    {
     "name": "stdout",
     "output_type": "stream",
     "text": [
      "Object 1: car\n",
      "\n",
      "Total objects been detected: 1\n",
      "Number of objects left after non-maximum suppression: 1\n"
     ]
    }
   ],
   "source": [
    "\n",
    "\"\"\"\n",
    "Start of:\n",
    "Drawing bounding boxes and labels\n",
    "\"\"\"\n",
    "\n",
    "# Defining counter for detected objects\n",
    "counter = 1\n",
    "\n",
    "# Checking if there is at least one detected object after non-maximum suppression\n",
    "if len(results) > 0:\n",
    "    # Going through indexes of results\n",
    "    for i in results.flatten():\n",
    "        # Showing labels of the detected objects\n",
    "        print('Object {0}: {1}'.format(counter, labels[int(class_numbers[i])]))\n",
    "\n",
    "        # Incrementing counter\n",
    "        counter += 1\n",
    "\n",
    "        # Getting current bounding box coordinates,\n",
    "        # its width and height\n",
    "        x_min, y_min = bounding_boxes[i][0], bounding_boxes[i][1]\n",
    "        box_width, box_height = bounding_boxes[i][2], bounding_boxes[i][3]\n",
    "\n",
    "        # Preparing colour for current bounding box\n",
    "        # and converting from numpy array to list\n",
    "        colour_box_current = colours[class_numbers[i]].tolist()\n",
    "\n",
    "        # # # Check point\n",
    "        # print(type(colour_box_current))  # <class 'list'>\n",
    "        # print(colour_box_current)  # [172 , 10, 127]\n",
    "\n",
    "        # Drawing bounding box on the original image\n",
    "        cv2.rectangle(image_BGR, (x_min, y_min),\n",
    "                      (x_min + box_width, y_min + box_height),\n",
    "                      colour_box_current, 2)\n",
    "\n",
    "        # Preparing text with label and confidence for current bounding box\n",
    "        text_box_current = '{}: {:.4f}'.format(labels[int(class_numbers[i])],\n",
    "                                               confidences[i])\n",
    "\n",
    "        # Putting text with label and confidence on the original image\n",
    "        cv2.putText(image_BGR, text_box_current, (x_min, y_min - 5),\n",
    "                    cv2.FONT_HERSHEY_COMPLEX, 0.7, colour_box_current, 2)\n",
    "\n",
    "\n",
    "# Comparing how many objects where before non-maximum suppression\n",
    "# and left after\n",
    "print()\n",
    "print('Total objects been detected:', len(bounding_boxes))\n",
    "print('Number of objects left after non-maximum suppression:', counter - 1)\n"
   ]
  },
  {
   "cell_type": "code",
   "execution_count": 51,
   "id": "seventh-cooking",
   "metadata": {},
   "outputs": [
    {
     "data": {
      "text/plain": [
       "'\\nEnd of:\\nDrawing bounding boxes and labels\\n'"
      ]
     },
     "execution_count": 51,
     "metadata": {},
     "output_type": "execute_result"
    }
   ],
   "source": [
    "\"\"\"\n",
    "End of:\n",
    "Drawing bounding boxes and labels\n",
    "\"\"\""
   ]
  },
  {
   "cell_type": "code",
   "execution_count": 52,
   "id": "precise-feedback",
   "metadata": {},
   "outputs": [],
   "source": [
    "\n",
    "# Showing Original Image with Detected Objects\n",
    "# Giving name to the window with Original Image\n",
    "# And specifying that window is resizable\n",
    "#cv2.namedWindow('Detections', cv2.WINDOW_NORMAL)\n",
    "\n"
   ]
  },
  {
   "cell_type": "code",
   "execution_count": null,
   "id": "basic-gregory",
   "metadata": {},
   "outputs": [],
   "source": [
    "#cv2.imshow('Detections', image_BGR)"
   ]
  },
  {
   "cell_type": "code",
   "execution_count": 53,
   "id": "viral-access",
   "metadata": {},
   "outputs": [
    {
     "data": {
      "text/plain": [
       "True"
      ]
     },
     "execution_count": 53,
     "metadata": {},
     "output_type": "execute_result"
    }
   ],
   "source": [
    "cv2.imwrite('black_sedan_boxes.jpg',image_BGR)"
   ]
  },
  {
   "cell_type": "code",
   "execution_count": null,
   "id": "intense-richards",
   "metadata": {},
   "outputs": [],
   "source": []
  }
 ],
 "metadata": {
  "kernelspec": {
   "display_name": "Python 3",
   "language": "python",
   "name": "python3"
  },
  "language_info": {
   "codemirror_mode": {
    "name": "ipython",
    "version": 3
   },
   "file_extension": ".py",
   "mimetype": "text/x-python",
   "name": "python",
   "nbconvert_exporter": "python",
   "pygments_lexer": "ipython3",
   "version": "3.7.10"
  }
 },
 "nbformat": 4,
 "nbformat_minor": 5
}
