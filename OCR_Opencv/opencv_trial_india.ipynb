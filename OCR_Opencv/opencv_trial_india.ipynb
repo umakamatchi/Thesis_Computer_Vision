{
 "cells": [
  {
   "cell_type": "code",
   "execution_count": 1,
   "id": "american-period",
   "metadata": {},
   "outputs": [],
   "source": [
    "import cv2\n",
    "import imutils\n",
    "import numpy as np\n",
    "import pytesseract\n",
    "pytesseract.pytesseract.tesseract_cmd = r'C:\\Program Files\\Tesseract-OCR\\tesseract.exe'"
   ]
  },
  {
   "cell_type": "code",
   "execution_count": 6,
   "id": "infinite-robin",
   "metadata": {},
   "outputs": [],
   "source": [
    "img = cv2.imread('C:\\\\Users\\\\Uma\\\\Anacondanew\\\\envs\\\\uma_tensor\\\\OCR_Opencv\\\\images\\\\Germany.jpg')\n",
    "img = cv2.resize(img,(600,400) )\n",
    "\n",
    "#img"
   ]
  },
  {
   "cell_type": "code",
   "execution_count": 7,
   "id": "graduate-strength",
   "metadata": {},
   "outputs": [],
   "source": [
    "#cv2.imshow(\"Image\", img)"
   ]
  },
  {
   "cell_type": "code",
   "execution_count": 8,
   "id": "introductory-rehabilitation",
   "metadata": {},
   "outputs": [
    {
     "data": {
      "text/plain": [
       "True"
      ]
     },
     "execution_count": 8,
     "metadata": {},
     "output_type": "execute_result"
    }
   ],
   "source": [
    "cv2.imwrite(\"germany_resize.jpeg\", img)"
   ]
  },
  {
   "cell_type": "code",
   "execution_count": 9,
   "id": "legendary-mother",
   "metadata": {},
   "outputs": [
    {
     "data": {
      "text/plain": [
       "True"
      ]
     },
     "execution_count": 9,
     "metadata": {},
     "output_type": "execute_result"
    }
   ],
   "source": [
    "gray = cv2.cvtColor(img, cv2.COLOR_BGR2GRAY) \n",
    "gray = cv2.bilateralFilter(gray, 13, 15, 15) \n",
    "cv2.imwrite(\"germany_gray_bilateral.jpeg\", gray)\n"
   ]
  },
  {
   "cell_type": "code",
   "execution_count": 10,
   "id": "institutional-benjamin",
   "metadata": {},
   "outputs": [
    {
     "data": {
      "text/plain": [
       "True"
      ]
     },
     "execution_count": 10,
     "metadata": {},
     "output_type": "execute_result"
    }
   ],
   "source": [
    "edged = cv2.Canny(gray, 30, 200) #Perform Edge detection\n",
    "cv2.imwrite(\"ger_edge_detection.jpeg\", edged)"
   ]
  },
  {
   "cell_type": "code",
   "execution_count": 11,
   "id": "earned-empire",
   "metadata": {},
   "outputs": [
    {
     "data": {
      "text/plain": [
       "True"
      ]
     },
     "execution_count": 11,
     "metadata": {},
     "output_type": "execute_result"
    }
   ],
   "source": [
    "contours=cv2.findContours(edged.copy(),cv2.RETR_TREE,\n",
    "                                            cv2.CHAIN_APPROX_SIMPLE)\n",
    "contours = imutils.grab_contours(contours)\n",
    "contours = sorted(contours,key=cv2.contourArea, reverse = True)[:10]\n",
    "screenCnt = None\n",
    "for c in contours:\n",
    "    # approximate the contour\n",
    "    peri = cv2.arcLength(c, True)\n",
    "    approx = cv2.approxPolyDP(c, 0.018 * peri, True)\n",
    "    # if our approximated contour has four points, then\n",
    "    # we can assume that we have found our screen\n",
    "    if len(approx) == 4:\n",
    "        screenCnt = approx\n",
    "        break\n",
    "# Masking the part other than the number plate\n",
    "mask = np.zeros(gray.shape,np.uint8)\n",
    "new_image = cv2.drawContours(mask,[screenCnt],0,255,-1,)\n",
    "cv2.imwrite(\"ger_contours_draw.jpeg\", new_image)\n",
    "\n",
    "  "
   ]
  },
  {
   "cell_type": "code",
   "execution_count": 12,
   "id": "white-occupation",
   "metadata": {},
   "outputs": [
    {
     "data": {
      "text/plain": [
       "True"
      ]
     },
     "execution_count": 12,
     "metadata": {},
     "output_type": "execute_result"
    }
   ],
   "source": [
    "new_image = cv2.bitwise_and(img,img,mask=mask)    \n",
    "cv2.imwrite(\"ger_contours.jpeg\", new_image)"
   ]
  },
  {
   "cell_type": "code",
   "execution_count": 13,
   "id": "owned-tract",
   "metadata": {},
   "outputs": [],
   "source": [
    "# Now crop\n",
    "(x, y) = np.where(mask == 255)\n",
    "(topx, topy) = (np.min(x), np.min(y))\n",
    "(bottomx, bottomy) = (np.max(x), np.max(y))\n",
    "Cropped = gray[topx:bottomx+1, topy:bottomy+1]"
   ]
  },
  {
   "cell_type": "code",
   "execution_count": 14,
   "id": "distinct-grammar",
   "metadata": {},
   "outputs": [
    {
     "data": {
      "text/plain": [
       "True"
      ]
     },
     "execution_count": 14,
     "metadata": {},
     "output_type": "execute_result"
    }
   ],
   "source": [
    "cv2.imwrite(\"ger_cropped.jpeg\", Cropped)"
   ]
  },
  {
   "cell_type": "code",
   "execution_count": 16,
   "id": "documented-spanking",
   "metadata": {},
   "outputs": [
    {
     "name": "stdout",
     "output_type": "stream",
     "text": [
      "Detected license plate Number is: WH12DE1433\n",
      "\f",
      "\n"
     ]
    }
   ],
   "source": [
    "#Read the number plate\n",
    "text = pytesseract.image_to_string(Cropped, config='--psm 11')\n",
    "print(\"Detected license plate Number is:\",text)"
   ]
  },
  {
   "cell_type": "code",
   "execution_count": null,
   "id": "injured-howard",
   "metadata": {},
   "outputs": [],
   "source": []
  }
 ],
 "metadata": {
  "kernelspec": {
   "display_name": "Python 3",
   "language": "python",
   "name": "python3"
  },
  "language_info": {
   "codemirror_mode": {
    "name": "ipython",
    "version": 3
   },
   "file_extension": ".py",
   "mimetype": "text/x-python",
   "name": "python",
   "nbconvert_exporter": "python",
   "pygments_lexer": "ipython3",
   "version": "3.7.10"
  }
 },
 "nbformat": 4,
 "nbformat_minor": 5
}
