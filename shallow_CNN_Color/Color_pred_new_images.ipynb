{
 "cells": [
  {
   "cell_type": "code",
   "execution_count": 2,
   "id": "welcome-oasis",
   "metadata": {},
   "outputs": [],
   "source": [
    "from tensorflow.keras.models import load_model\n",
    "from imutils import paths\n",
    "import numpy as np\n",
    "import argparse\n",
    "import cv2"
   ]
  },
  {
   "cell_type": "code",
   "execution_count": 3,
   "id": "superb-bridges",
   "metadata": {},
   "outputs": [],
   "source": [
    "\n",
    "\n",
    "args={\"dataset\":\"C:\\\\Users\\\\Uma\\\\Desktop\\\\type_pred\\\\\",\"model\":\"Colorfinal_VGG.h5\"}\n",
    "\n",
    "\n"
   ]
  },
  {
   "cell_type": "code",
   "execution_count": 4,
   "id": "familiar-retrieval",
   "metadata": {},
   "outputs": [],
   "source": [
    "# initialize the class labels\n",
    "classLabels =[\"black\",\"blue\",\"cyan\",\"gray\",\"green\",\"white\",\"yellow\",\"red\"]\n",
    "\n",
    "\n"
   ]
  },
  {
   "cell_type": "code",
   "execution_count": 5,
   "id": "ceramic-roots",
   "metadata": {},
   "outputs": [
    {
     "name": "stdout",
     "output_type": "stream",
     "text": [
      "[INFO] sampling images...\n"
     ]
    }
   ],
   "source": [
    "# grab the list of images in the dataset then randomly sample\n",
    "# indexes into the image paths list\n",
    "print(\"[INFO] sampling images...\")\n",
    "imagePaths = np.array(list(paths.list_images(args[\"dataset\"])))\n"
   ]
  },
  {
   "cell_type": "code",
   "execution_count": 6,
   "id": "immune-judges",
   "metadata": {},
   "outputs": [],
   "source": [
    "from datasets import SimpleDatasetLoader\n"
   ]
  },
  {
   "cell_type": "code",
   "execution_count": 7,
   "id": "answering-pointer",
   "metadata": {},
   "outputs": [],
   "source": [
    "from preprocessing import SimplePreprocessor"
   ]
  },
  {
   "cell_type": "code",
   "execution_count": 8,
   "id": "female-button",
   "metadata": {},
   "outputs": [],
   "source": [
    "from preprocessing import ImageToArrayPreprocessor"
   ]
  },
  {
   "cell_type": "code",
   "execution_count": 9,
   "id": "efficient-albany",
   "metadata": {},
   "outputs": [],
   "source": [
    "# initialize the image preprocessors\n",
    "sp = SimplePreprocessor(100, 100)\n",
    "iap = ImageToArrayPreprocessor()"
   ]
  },
  {
   "cell_type": "code",
   "execution_count": 10,
   "id": "composite-copper",
   "metadata": {},
   "outputs": [],
   "source": [
    "# load the dataset from disk then scale the raw pixel intensities\n",
    "# to the range [0, 1]\n",
    "sdl = SimpleDatasetLoader(preprocessors=[sp, iap])\n",
    "(data, labels) = sdl.load(imagePaths)\n",
    "data = data.astype(\"float\") / 255.0"
   ]
  },
  {
   "cell_type": "code",
   "execution_count": 11,
   "id": "radio-overview",
   "metadata": {},
   "outputs": [
    {
     "name": "stdout",
     "output_type": "stream",
     "text": [
      "[INFO] loading CNN-Color_trained network...\n"
     ]
    }
   ],
   "source": [
    "# load the CNN_color-trained network\n",
    "print(\"[INFO] loading CNN-Color_trained network...\")\n",
    "model = load_model(args[\"model\"])\n"
   ]
  },
  {
   "cell_type": "code",
   "execution_count": 12,
   "id": "oriented-search",
   "metadata": {},
   "outputs": [
    {
     "name": "stdout",
     "output_type": "stream",
     "text": [
      "[INFO] predicting...\n"
     ]
    }
   ],
   "source": [
    "# make predictions on the images\n",
    "print(\"[INFO] predicting...\")\n",
    "preds = model.predict(data,batch_size=32).argmax(axis=1)\n",
    "#print(preds)\n",
    "\n"
   ]
  },
  {
   "cell_type": "code",
   "execution_count": 13,
   "id": "exceptional-parker",
   "metadata": {},
   "outputs": [],
   "source": [
    "cd=\"C:\\\\Users\\\\Uma\\\\Anacondanew\\\\envs\\\\uma_tensor\\\\CNN COLOR Shallow\\\\color_img_out\\\\\""
   ]
  },
  {
   "cell_type": "code",
   "execution_count": 14,
   "id": "rubber-gross",
   "metadata": {},
   "outputs": [],
   "source": [
    "import os"
   ]
  },
  {
   "cell_type": "code",
   "execution_count": 15,
   "id": "composed-market",
   "metadata": {},
   "outputs": [],
   "source": [
    "# loop over the sample images\n",
    "for (i, imagePath) in enumerate(imagePaths):\n",
    "    filename = os.path.basename(imagePath)                  \n",
    "    # load the example image, draw the prediction, and write it \n",
    "    image = cv2.imread(imagePath)\n",
    "    cv2.putText(image, \"Label: {}\".format(classLabels[preds[i]]),\n",
    "                (10, 30), cv2.FONT_HERSHEY_SIMPLEX, 0.7, (0, 255, 0), 2)\n",
    "\n",
    "    cv2.imwrite(os.path.join(cd ,filename), image)\n",
    "\n",
    "   \n"
   ]
  }
 ],
 "metadata": {
  "kernelspec": {
   "display_name": "Python 3",
   "language": "python",
   "name": "python3"
  },
  "language_info": {
   "codemirror_mode": {
    "name": "ipython",
    "version": 3
   },
   "file_extension": ".py",
   "mimetype": "text/x-python",
   "name": "python",
   "nbconvert_exporter": "python",
   "pygments_lexer": "ipython3",
   "version": "3.7.10"
  }
 },
 "nbformat": 4,
 "nbformat_minor": 5
}
