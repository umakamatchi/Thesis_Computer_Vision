{
 "cells": [
  {
   "cell_type": "code",
   "execution_count": 1,
   "metadata": {},
   "outputs": [],
   "source": [
    "import cv2\n",
    "import numpy as np\n",
    "import matplotlib.pyplot as plt\n",
    "import os\n",
    "from tqdm import tqdm\n",
    "\n",
    "from keras.models import Sequential, Model\n",
    "from keras.layers import Dense, Dropout, Activation, Flatten, BatchNormalization, Concatenate\n",
    "from keras.layers import Conv2D, MaxPooling2D\n",
    "from keras.utils import to_categorical\n",
    "from keras import Input\n",
    "from keras import optimizers\n",
    "import random\n",
    "from sklearn.metrics import accuracy_score\n",
    "from sklearn.metrics import classification_report, confusion_matrix\n",
    "from sklearn.model_selection import train_test_split\n",
    "\n"
   ]
  },
  {
   "cell_type": "code",
   "execution_count": 2,
   "metadata": {},
   "outputs": [],
   "source": [
    "import pandas as pd\n",
    "'''walks through the train directory, creates a dataframe with class and filepaths for all images present in the train directory'''\n",
    "\n",
    "Dataset_Dir=\"C:\\\\Users\\\\Uma\\\\Anacondanew\\\\envs\\\\uma_tensor\\\\CNN COLOR Shallow\\\\\\color_clean_balanced\\\\Type_data_training\\\\\"\n",
    "#\"C:\\\\Users\\\\Uma\\\\Anacondanew\\\\envs\\\\tensorenviron\\\\thesis\\\\color_clean\\\\\"\n",
    "#C:\\Users\\Uma\\Anacondanew\\envs\\tensorenviron\\color data augmented\n",
    "#C:\\Users\\Uma\\Anacondanew\\envs\\tensorenviron\\thesis\\color data augmented\n",
    "#C:\\Users\\Uma\\Anacondanew\\envs\\tensorenviron\\color_aug_clean\n",
    "data = []\n",
    "for category in sorted(os.listdir(Dataset_Dir)):\n",
    "    for file in sorted(os.listdir(os.path.join(Dataset_Dir, category))):\n",
    "        data.append((category, os.path.join(Dataset_Dir, category,  file)))\n",
    "\n",
    "df = pd.DataFrame(data, columns=['class', 'file_path'])"
   ]
  },
  {
   "cell_type": "code",
   "execution_count": 3,
   "metadata": {},
   "outputs": [
    {
     "name": "stdout",
     "output_type": "stream",
     "text": [
      "There are 17638 images\n"
     ]
    }
   ],
   "source": [
    "len_df = len(df)\n",
    "print(f\"There are {len_df} images\")"
   ]
  },
  {
   "cell_type": "code",
   "execution_count": 4,
   "metadata": {
    "scrolled": true
   },
   "outputs": [
    {
     "data": {
      "image/png": "[encoded data removed]",
      "text/plain": [
       "<Figure size 432x288 with 1 Axes>"
      ]
     },
     "metadata": {
      "needs_background": "light"
     },
     "output_type": "display_data"
    }
   ],
   "source": [
    "df['class'].value_counts().plot(kind='bar');\n",
    "plt.title('Class counts');"
   ]
  },
  {
   "cell_type": "code",
   "execution_count": 5,
   "metadata": {},
   "outputs": [
    {
     "name": "stderr",
     "output_type": "stream",
     "text": [
      "  0%|          | 6/2943 [00:00<01:27, 33.70it/s]"
     ]
    },
    {
     "name": "stdout",
     "output_type": "stream",
     "text": [
      "0\n"
     ]
    },
    {
     "name": "stderr",
     "output_type": "stream",
     "text": [
      "100%|██████████| 2943/2943 [02:09<00:00, 22.73it/s]\n",
      "  0%|          | 2/2974 [00:00<03:11, 15.52it/s]"
     ]
    },
    {
     "name": "stdout",
     "output_type": "stream",
     "text": [
      "1\n"
     ]
    },
    {
     "name": "stderr",
     "output_type": "stream",
     "text": [
      "100%|██████████| 2974/2974 [01:22<00:00, 35.90it/s]\n",
      "  0%|          | 0/2928 [00:00<?, ?it/s]"
     ]
    },
    {
     "name": "stdout",
     "output_type": "stream",
     "text": [
      "2\n"
     ]
    },
    {
     "name": "stderr",
     "output_type": "stream",
     "text": [
      "100%|██████████| 2928/2928 [03:11<00:00, 15.29it/s]\n",
      "  0%|          | 0/2927 [00:00<?, ?it/s]"
     ]
    },
    {
     "name": "stdout",
     "output_type": "stream",
     "text": [
      "3\n"
     ]
    },
    {
     "name": "stderr",
     "output_type": "stream",
     "text": [
      "100%|██████████| 2927/2927 [01:46<00:00, 27.54it/s]\n",
      "  1%|          | 15/2962 [00:00<00:20, 146.23it/s]"
     ]
    },
    {
     "name": "stdout",
     "output_type": "stream",
     "text": [
      "4\n"
     ]
    },
    {
     "name": "stderr",
     "output_type": "stream",
     "text": [
      "100%|██████████| 2962/2962 [00:20<00:00, 143.77it/s]\n",
      "  0%|          | 13/2904 [00:00<00:22, 125.84it/s]"
     ]
    },
    {
     "name": "stdout",
     "output_type": "stream",
     "text": [
      "5\n"
     ]
    },
    {
     "name": "stderr",
     "output_type": "stream",
     "text": [
      "100%|██████████| 2904/2904 [00:22<00:00, 128.68it/s]\n"
     ]
    }
   ],
   "source": [
    "CATEGORIES = [\"Bus\", \"Truck\",\"Motorcycle\",\"Van\",\"suv\",\"sedan\"]\n",
    "\n",
    "\n",
    "\n",
    "\n",
    "IMG_SIZE = 100\n",
    "training_data = []\n",
    "\n",
    "#for training \n",
    "def create_training_data():\n",
    "    for category in CATEGORIES:  \n",
    "\n",
    "        path = os.path.join(Dataset_Dir,category)  # create path to categories\n",
    "        class_num = CATEGORIES.index(category)  # get the classification  \n",
    "        print (class_num)\n",
    "        \n",
    "        for img in tqdm(os.listdir(path)):  # iterate over each image per classes\n",
    "            try:\n",
    "                img_array = cv2.imread(os.path.join(path,img) ,cv2.COLOR_BGR2RGB)  # convert to array\n",
    "                new_array = cv2.resize(img_array, (IMG_SIZE, IMG_SIZE))  # resize to normalize data size\n",
    "                training_data.append([new_array, class_num])  # add this to our training_data\n",
    "            except Exception as e:  # in the interest in keeping the output clean...\n",
    "                pass\n",
    "create_training_data()            "
   ]
  },
  {
   "cell_type": "code",
   "execution_count": 6,
   "metadata": {},
   "outputs": [],
   "source": [
    "import pandas as pd\n",
    "df = pd.DataFrame(training_data, columns=['class', 'class_num'])"
   ]
  },
  {
   "cell_type": "code",
   "execution_count": 8,
   "metadata": {},
   "outputs": [
    {
     "name": "stdout",
     "output_type": "stream",
     "text": [
      "17638\n"
     ]
    }
   ],
   "source": [
    "print(len(training_data))"
   ]
  },
  {
   "cell_type": "code",
   "execution_count": 9,
   "metadata": {},
   "outputs": [],
   "source": [
    "X_train = []\n",
    "y_train = []"
   ]
  },
  {
   "cell_type": "code",
   "execution_count": 10,
   "metadata": {},
   "outputs": [],
   "source": [
    "for features,label in training_data:\n",
    "    X_train.append(features)\n",
    "    y_train.append(label)\n",
    "X_train = np.array(X_train).reshape(-1, IMG_SIZE, IMG_SIZE, 3)\n",
    "y_train = np.array(y_train)\n",
    "\n"
   ]
  },
  {
   "cell_type": "code",
   "execution_count": 11,
   "metadata": {},
   "outputs": [],
   "source": [
    "X_train = X_train/255.0  \n",
    "\n",
    "X_train,X_test,y_train,y_test= train_test_split(X_train,y_train,test_size=0.3, random_state=1)"
   ]
  },
  {
   "cell_type": "code",
   "execution_count": 12,
   "metadata": {},
   "outputs": [
    {
     "data": {
      "text/plain": [
       "12346"
      ]
     },
     "execution_count": 12,
     "metadata": {},
     "output_type": "execute_result"
    }
   ],
   "source": [
    "len(X_train)"
   ]
  },
  {
   "cell_type": "code",
   "execution_count": 13,
   "metadata": {},
   "outputs": [
    {
     "data": {
      "text/plain": [
       "5292"
      ]
     },
     "execution_count": 13,
     "metadata": {},
     "output_type": "execute_result"
    }
   ],
   "source": [
    "len(X_test)"
   ]
  },
  {
   "cell_type": "code",
   "execution_count": 14,
   "metadata": {},
   "outputs": [
    {
     "data": {
      "text/plain": [
       "100"
      ]
     },
     "execution_count": 14,
     "metadata": {},
     "output_type": "execute_result"
    }
   ],
   "source": [
    "len(features)"
   ]
  },
  {
   "cell_type": "markdown",
   "metadata": {},
   "source": [
    "# CNN with keras\n",
    "Let's start by defining the topology of our CNN. We'll start  a single Conv2D layer, followed by a Dropout layer to prevent overfitting, which then gets flattened into a conventional deep neural network, with 512 neurons, a 50% dropout layer, and the final layer for six possible classification results."
   ]
  },
  {
   "cell_type": "code",
   "execution_count": 15,
   "metadata": {},
   "outputs": [],
   "source": [
    "import tensorflow as tf\n",
    "from tensorflow.keras.models import Sequential\n",
    "from tensorflow.keras.layers import Dense, Conv2D, MaxPooling2D, Dropout, Flatten  \n",
    "def createModel(input_shape=(100,100,3)):\n",
    "    model = Sequential()\n",
    "    model.add(Conv2D(32, (3, 3), padding='same', activation='relu', input_shape=input_shape))#convolution layer\n",
    "    model.add(Dropout(0.25))\n",
    " \n",
    "    model.add(Flatten())#convert 2D to single dimension\n",
    "    model.add(Dense(512, activation='relu'))\n",
    "    model.add(Dropout(0.5))\n",
    "    model.add(Dense(6, activation='softmax')) #output\n",
    "         \n",
    "    return model"
   ]
  },
  {
   "cell_type": "code",
   "execution_count": 16,
   "metadata": {},
   "outputs": [],
   "source": [
    "opt = tf.keras.optimizers.RMSprop(lr=0.0001, decay=1e-6)\n",
    "\n",
    "model = createModel(X_train.shape[1:])\n",
    "\n",
    "model.compile(loss='sparse_categorical_crossentropy',\n",
    "              optimizer=opt,\n",
    "              metrics=['acc'])\n"
   ]
  },
  {
   "cell_type": "code",
   "execution_count": 17,
   "metadata": {
    "scrolled": true
   },
   "outputs": [
    {
     "name": "stdout",
     "output_type": "stream",
     "text": [
      "Model: \"sequential\"\n",
      "_________________________________________________________________\n",
      "Layer (type)                 Output Shape              Param #   \n",
      "=================================================================\n",
      "conv2d (Conv2D)              (None, 100, 100, 32)      896       \n",
      "_________________________________________________________________\n",
      "dropout (Dropout)            (None, 100, 100, 32)      0         \n",
      "_________________________________________________________________\n",
      "flatten (Flatten)            (None, 320000)            0         \n",
      "_________________________________________________________________\n",
      "dense (Dense)                (None, 512)               163840512 \n",
      "_________________________________________________________________\n",
      "dropout_1 (Dropout)          (None, 512)               0         \n",
      "_________________________________________________________________\n",
      "dense_1 (Dense)              (None, 6)                 3078      \n",
      "=================================================================\n",
      "Total params: 163,844,486\n",
      "Trainable params: 163,844,486\n",
      "Non-trainable params: 0\n",
      "_________________________________________________________________\n"
     ]
    }
   ],
   "source": [
    "model.summary()"
   ]
  },
  {
   "cell_type": "code",
   "execution_count": 19,
   "metadata": {},
   "outputs": [
    {
     "name": "stdout",
     "output_type": "stream",
     "text": [
      "Epoch 1/30\n",
      "193/193 [==============================] - 442s 2s/step - loss: 1.0453 - acc: 0.5974 - val_loss: 0.6744 - val_acc: 0.7536\n",
      "Epoch 2/30\n",
      "193/193 [==============================] - 420s 2s/step - loss: 0.6503 - acc: 0.7529 - val_loss: 0.5877 - val_acc: 0.7874\n",
      "Epoch 3/30\n",
      "193/193 [==============================] - 431s 2s/step - loss: 0.4823 - acc: 0.8363 - val_loss: 0.4847 - val_acc: 0.8322\n",
      "Epoch 4/30\n",
      "193/193 [==============================] - 442s 2s/step - loss: 0.3453 - acc: 0.8873 - val_loss: 0.4386 - val_acc: 0.8560\n",
      "Epoch 5/30\n",
      "193/193 [==============================] - 442s 2s/step - loss: 0.2603 - acc: 0.9208 - val_loss: 0.4403 - val_acc: 0.8445\n",
      "Epoch 6/30\n",
      "193/193 [==============================] - 430s 2s/step - loss: 0.1950 - acc: 0.9409 - val_loss: 0.4542 - val_acc: 0.8424\n",
      "Epoch 7/30\n",
      "193/193 [==============================] - 444s 2s/step - loss: 0.1443 - acc: 0.9605 - val_loss: 0.4071 - val_acc: 0.8702\n",
      "Epoch 8/30\n",
      "193/193 [==============================] - 448s 2s/step - loss: 0.1077 - acc: 0.9705 - val_loss: 0.3925 - val_acc: 0.8766\n",
      "Epoch 9/30\n",
      "193/193 [==============================] - 441s 2s/step - loss: 0.0838 - acc: 0.9780 - val_loss: 0.4275 - val_acc: 0.8662\n",
      "Epoch 10/30\n",
      "193/193 [==============================] - 438s 2s/step - loss: 0.0642 - acc: 0.9829 - val_loss: 0.4401 - val_acc: 0.8668\n",
      "Epoch 11/30\n",
      "193/193 [==============================] - 427s 2s/step - loss: 0.0513 - acc: 0.9867 - val_loss: 0.4682 - val_acc: 0.8571\n",
      "Epoch 12/30\n",
      "193/193 [==============================] - 428s 2s/step - loss: 0.0410 - acc: 0.9901 - val_loss: 0.4497 - val_acc: 0.8719\n",
      "Epoch 13/30\n",
      "193/193 [==============================] - 433s 2s/step - loss: 0.0335 - acc: 0.9930 - val_loss: 0.4562 - val_acc: 0.8791\n",
      "Epoch 14/30\n",
      "193/193 [==============================] - 436s 2s/step - loss: 0.0277 - acc: 0.9925 - val_loss: 0.4863 - val_acc: 0.8747\n",
      "Epoch 15/30\n",
      "193/193 [==============================] - 432s 2s/step - loss: 0.0232 - acc: 0.9941 - val_loss: 0.4516 - val_acc: 0.8776\n",
      "Epoch 16/30\n",
      "193/193 [==============================] - 430s 2s/step - loss: 0.0178 - acc: 0.9954 - val_loss: 0.5108 - val_acc: 0.8760\n",
      "Epoch 17/30\n",
      "193/193 [==============================] - 431s 2s/step - loss: 0.0154 - acc: 0.9958 - val_loss: 0.5125 - val_acc: 0.8796\n",
      "Epoch 18/30\n",
      "193/193 [==============================] - 435s 2s/step - loss: 0.0150 - acc: 0.9960 - val_loss: 0.5227 - val_acc: 0.8745\n",
      "Epoch 19/30\n",
      "193/193 [==============================] - 431s 2s/step - loss: 0.0117 - acc: 0.9971 - val_loss: 0.5348 - val_acc: 0.8760\n",
      "Epoch 20/30\n",
      "193/193 [==============================] - 430s 2s/step - loss: 0.0102 - acc: 0.9972 - val_loss: 0.5882 - val_acc: 0.8700\n",
      "Epoch 21/30\n",
      "193/193 [==============================] - 433s 2s/step - loss: 0.0111 - acc: 0.9974 - val_loss: 0.5520 - val_acc: 0.8813\n",
      "Epoch 22/30\n",
      "193/193 [==============================] - 441s 2s/step - loss: 0.0096 - acc: 0.9974 - val_loss: 0.6079 - val_acc: 0.8723\n",
      "Epoch 23/30\n",
      "193/193 [==============================] - 433s 2s/step - loss: 0.0071 - acc: 0.9987 - val_loss: 0.6159 - val_acc: 0.8738\n",
      "Epoch 24/30\n",
      "193/193 [==============================] - 430s 2s/step - loss: 0.0075 - acc: 0.9982 - val_loss: 0.6225 - val_acc: 0.8743\n",
      "Epoch 25/30\n",
      "193/193 [==============================] - 435s 2s/step - loss: 0.0074 - acc: 0.9982 - val_loss: 0.6538 - val_acc: 0.8645\n",
      "Epoch 26/30\n",
      "193/193 [==============================] - 435s 2s/step - loss: 0.0065 - acc: 0.9985 - val_loss: 0.6287 - val_acc: 0.8723\n",
      "Epoch 27/30\n",
      "193/193 [==============================] - 440s 2s/step - loss: 0.0057 - acc: 0.9982 - val_loss: 0.6275 - val_acc: 0.8707\n",
      "Epoch 28/30\n",
      "193/193 [==============================] - 436s 2s/step - loss: 0.0053 - acc: 0.9989 - val_loss: 0.6641 - val_acc: 0.8677\n",
      "Epoch 29/30\n",
      "193/193 [==============================] - 427s 2s/step - loss: 0.0055 - acc: 0.9986 - val_loss: 0.6898 - val_acc: 0.8675\n",
      "Epoch 30/30\n",
      "193/193 [==============================] - 435s 2s/step - loss: 0.0057 - acc: 0.9987 - val_loss: 0.6852 - val_acc: 0.8660\n"
     ]
    }
   ],
   "source": [
    "history=model.fit(X_train, y_train, batch_size=64, epochs=30, validation_data=(X_test,y_test))"
   ]
  },
  {
   "cell_type": "code",
   "execution_count": 20,
   "metadata": {},
   "outputs": [
    {
     "name": "stdout",
     "output_type": "stream",
     "text": [
      "166/166 [==============================] - 47s 285ms/step - loss: 0.6852 - acc: 0.8660\n",
      "Test loss: 0.6851534843444824\n",
      "Test accuracy: 0.8660241961479187\n"
     ]
    }
   ],
   "source": [
    "scores = model.evaluate(X_test, y_test, verbose=1)\n",
    "print('Test loss:', scores[0])\n",
    "print('Test accuracy:', scores[1])"
   ]
  },
  {
   "cell_type": "code",
   "execution_count": 21,
   "metadata": {},
   "outputs": [],
   "source": [
    "model.save('type_shallow_VGG_30.h5')"
   ]
  },
  {
   "cell_type": "code",
   "execution_count": 22,
   "metadata": {},
   "outputs": [
    {
     "data": {
      "image/png": "[encoded data removed]",
      "text/plain": [
       "<Figure size 432x288 with 1 Axes>"
      ]
     },
     "metadata": {
      "needs_background": "light"
     },
     "output_type": "display_data"
    }
   ],
   "source": [
    "import keras\n",
    "from matplotlib import pyplot as plt\n",
    "#history = model1.fit(train_x, train_y,validation_split = 0.1, epochs=10, batch_size=32)\n",
    "plt.plot(history.history['acc'])\n",
    "plt.plot(history.history['val_acc'])\n",
    "plt.title('model accuracy')\n",
    "plt.ylabel('accuracy')\n",
    "plt.xlabel('epoch')\n",
    "plt.legend(['train', 'val'], loc='upper left')\n",
    "plt.show()"
   ]
  },
  {
   "cell_type": "code",
   "execution_count": 23,
   "metadata": {},
   "outputs": [
    {
     "name": "stdout",
     "output_type": "stream",
     "text": [
      "WARNING:tensorflow:From <ipython-input-23-9a8fabb6c846>:2: Sequential.predict_classes (from tensorflow.python.keras.engine.sequential) is deprecated and will be removed after 2021-01-01.\n",
      "Instructions for updating:\n",
      "Please use instead:* `np.argmax(model.predict(x), axis=-1)`,   if your model does multi-class classification   (e.g. if it uses a `softmax` last-layer activation).* `(model.predict(x) > 0.5).astype(\"int32\")`,   if your model does binary classification   (e.g. if it uses a `sigmoid` last-layer activation).\n"
     ]
    }
   ],
   "source": [
    "# make a prediction\n",
    "y_train_predict = model.predict_classes(X_train)\n"
   ]
  },
  {
   "cell_type": "code",
   "execution_count": 25,
   "metadata": {},
   "outputs": [
    {
     "data": {
      "image/png": "[encoded data removed]",
      "text/plain": [
       "<Figure size 432x288 with 1 Axes>"
      ]
     },
     "metadata": {
      "needs_background": "light"
     },
     "output_type": "display_data"
    }
   ],
   "source": [
    "plt.plot(history.history['loss'])\n",
    "plt.plot(history.history['val_loss'])\n",
    "plt.title('model loss')\n",
    "plt.ylabel('loss')\n",
    "plt.xlabel('epoch')\n",
    "plt.legend(['train', 'val'], loc='upper left')\n",
    "plt.show()"
   ]
  },
  {
   "cell_type": "code",
   "execution_count": 27,
   "metadata": {},
   "outputs": [],
   "source": [
    "y_test_predict = model.predict_classes(X_test)"
   ]
  },
  {
   "cell_type": "code",
   "execution_count": 28,
   "metadata": {},
   "outputs": [
    {
     "name": "stdout",
     "output_type": "stream",
     "text": [
      "              precision    recall  f1-score   support\n",
      "\n",
      "           0       0.85      0.81      0.83       871\n",
      "           1       0.77      0.75      0.76       923\n",
      "           2       0.85      0.80      0.82       845\n",
      "           3       0.81      0.94      0.87       878\n",
      "           4       0.95      0.96      0.96       901\n",
      "           5       0.97      0.93      0.95       874\n",
      "\n",
      "    accuracy                           0.87      5292\n",
      "   macro avg       0.87      0.87      0.87      5292\n",
      "weighted avg       0.87      0.87      0.87      5292\n",
      "\n"
     ]
    }
   ],
   "source": [
    "print(classification_report(y_test,y_test_predict))"
   ]
  },
  {
   "cell_type": "code",
   "execution_count": 29,
   "metadata": {},
   "outputs": [
    {
     "data": {
      "text/plain": [
       "(6.0, 0.0)"
      ]
     },
     "execution_count": 29,
     "metadata": {},
     "output_type": "execute_result"
    },
    {
     "data": {
      "image/png": "[encoded data removed]",
      "text/plain": [
       "<Figure size 432x432 with 2 Axes>"
      ]
     },
     "metadata": {
      "needs_background": "light"
     },
     "output_type": "display_data"
    }
   ],
   "source": [
    "from sklearn.metrics import confusion_matrix,ConfusionMatrixDisplay\n",
    "import matplotlib.pyplot as plt\n",
    "import seaborn as sns\n",
    "%matplotlib inline\n",
    "cm = confusion_matrix(y_test,y_test_predict)\n",
    "plt.figure(figsize=(6, 6))\n",
    "\n",
    "\n",
    "plt.title('Confusion matrix type-shallow CNN')\n",
    "\n",
    "\n",
    "ax=sns.heatmap(cm, annot=True, fmt=\"d\")\n",
    "ax.xaxis.set_ticklabels([\"Bus\", \"Truck\",\"Motorcycle\",\"Van\",\"suv\",\"sedan\"]); ax.yaxis.set_ticklabels([\"Bus\", \"Truck\",\"Motorcycle\",\"Van\",\"suv\",\"sedan\"]);\n",
    "ax.set_ylim(sorted(ax.get_xlim(), reverse=True))"
   ]
  }
 ],
 "metadata": {
  "kernelspec": {
   "display_name": "Python 3",
   "language": "python",
   "name": "python3"
  },
  "language_info": {
   "codemirror_mode": {
    "name": "ipython",
    "version": 3
   },
   "file_extension": ".py",
   "mimetype": "text/x-python",
   "name": "python",
   "nbconvert_exporter": "python",
   "pygments_lexer": "ipython3",
   "version": "3.7.10"
  }
 },
 "nbformat": 4,
 "nbformat_minor": 2
}
