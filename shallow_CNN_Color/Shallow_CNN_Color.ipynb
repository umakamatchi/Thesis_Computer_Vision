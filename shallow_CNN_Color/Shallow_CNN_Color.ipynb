{
 "cells": [
  {
   "cell_type": "code",
   "execution_count": 4,
   "metadata": {},
   "outputs": [],
   "source": [
    "#Import all Libraries\n",
    "import cv2\n",
    "import numpy as np\n",
    "import matplotlib.pyplot as plt\n",
    "import os\n",
    "from tqdm import tqdm\n",
    "\n",
    "from keras.models import Sequential, Model\n",
    "from keras.layers import Dense, Dropout, Activation, Flatten, BatchNormalization, Concatenate\n",
    "from keras.layers import Conv2D, MaxPooling2D\n",
    "from keras.utils import to_categorical\n",
    "from keras import Input\n",
    "from keras import optimizers\n",
    "import random\n",
    "from sklearn.metrics import accuracy_score\n",
    "from sklearn.metrics import classification_report, confusion_matrix\n",
    "from sklearn.model_selection import train_test_split\n",
    "import pandas as pd\n",
    "\n"
   ]
  },
  {
   "cell_type": "code",
   "execution_count": 5,
   "metadata": {},
   "outputs": [],
   "source": [
    "\n",
    "'''walks through the train directory,\n",
    "creates a dataframe with class and filepaths for all images present in the train directory'''\n",
    "\n",
    "Dataset_Dir=\"C:\\\\Users\\\\Uma\\\\Anacondanew\\\\envs\\\\uma_tensor\\\\CNN COLOR Shallow\\\\\\color_clean_balanced\\\\color_clean\\\\\"\n",
    "\n",
    "data = []\n",
    "for category in sorted(os.listdir(Dataset_Dir)):\n",
    "    for file in sorted(os.listdir(os.path.join(Dataset_Dir, category))):\n",
    "        data.append((category, os.path.join(Dataset_Dir, category,  file)))\n",
    "\n",
    "df = pd.DataFrame(data, columns=['class', 'file_path'])"
   ]
  },
  {
   "cell_type": "code",
   "execution_count": 6,
   "metadata": {},
   "outputs": [
    {
     "name": "stdout",
     "output_type": "stream",
     "text": [
      "There are 12116 images\n"
     ]
    }
   ],
   "source": [
    "len_df = len(df)\n",
    "print(f\"There are {len_df} images\")"
   ]
  },
  {
   "cell_type": "code",
   "execution_count": 7,
   "metadata": {
    "scrolled": true
   },
   "outputs": [
    {
     "data": {
      "image/png": "[encoded data removed]",
      "text/plain": [
       "<Figure size 432x288 with 1 Axes>"
      ]
     },
     "metadata": {
      "needs_background": "light"
     },
     "output_type": "display_data"
    }
   ],
   "source": [
    "df['class'].value_counts().plot(kind='bar');\n",
    "plt.title('Class counts');"
   ]
  },
  {
   "cell_type": "code",
   "execution_count": 8,
   "metadata": {},
   "outputs": [
    {
     "name": "stderr",
     "output_type": "stream",
     "text": [
      "  1%|          | 11/1564 [00:00<00:16, 96.02it/s]"
     ]
    },
    {
     "name": "stdout",
     "output_type": "stream",
     "text": [
      "0\n"
     ]
    },
    {
     "name": "stderr",
     "output_type": "stream",
     "text": [
      "100%|██████████| 1564/1564 [00:13<00:00, 117.34it/s]\n",
      "  1%|          | 11/1495 [00:00<00:15, 98.79it/s]"
     ]
    },
    {
     "name": "stdout",
     "output_type": "stream",
     "text": [
      "1\n"
     ]
    },
    {
     "name": "stderr",
     "output_type": "stream",
     "text": [
      "100%|██████████| 1495/1495 [00:15<00:00, 96.83it/s] \n",
      "  1%|          | 16/1489 [00:00<00:10, 139.00it/s]"
     ]
    },
    {
     "name": "stdout",
     "output_type": "stream",
     "text": [
      "2\n"
     ]
    },
    {
     "name": "stderr",
     "output_type": "stream",
     "text": [
      "100%|██████████| 1489/1489 [00:12<00:00, 117.45it/s]\n",
      "  1%|          | 11/1518 [00:00<00:14, 101.27it/s]"
     ]
    },
    {
     "name": "stdout",
     "output_type": "stream",
     "text": [
      "3\n"
     ]
    },
    {
     "name": "stderr",
     "output_type": "stream",
     "text": [
      "100%|██████████| 1518/1518 [00:14<00:00, 104.64it/s]\n",
      "  0%|          | 7/1462 [00:00<00:21, 68.56it/s]"
     ]
    },
    {
     "name": "stdout",
     "output_type": "stream",
     "text": [
      "4\n"
     ]
    },
    {
     "name": "stderr",
     "output_type": "stream",
     "text": [
      "100%|██████████| 1462/1462 [00:12<00:00, 115.99it/s]\n",
      "  1%|          | 13/1530 [00:00<00:13, 114.81it/s]"
     ]
    },
    {
     "name": "stdout",
     "output_type": "stream",
     "text": [
      "5\n"
     ]
    },
    {
     "name": "stderr",
     "output_type": "stream",
     "text": [
      "100%|██████████| 1530/1530 [00:14<00:00, 102.96it/s]\n",
      "  1%|          | 13/1554 [00:00<00:13, 117.91it/s]"
     ]
    },
    {
     "name": "stdout",
     "output_type": "stream",
     "text": [
      "6\n"
     ]
    },
    {
     "name": "stderr",
     "output_type": "stream",
     "text": [
      "100%|██████████| 1554/1554 [00:13<00:00, 112.46it/s]\n",
      "  1%|          | 10/1504 [00:00<00:15, 96.13it/s]"
     ]
    },
    {
     "name": "stdout",
     "output_type": "stream",
     "text": [
      "7\n"
     ]
    },
    {
     "name": "stderr",
     "output_type": "stream",
     "text": [
      "100%|██████████| 1504/1504 [00:19<00:00, 78.80it/s]\n"
     ]
    }
   ],
   "source": [
    "CATEGORIES = [\"black\", \"blue\",\"cyan\",\"gray\",\"green\",\"white\",\"yellow\",\"red\"]\n",
    "\n",
    "\n",
    "\n",
    "IMG_SIZE = 100\n",
    "training_data = []\n",
    "\n",
    "#for training \n",
    "def create_training_data():\n",
    "    for category in CATEGORIES:  \n",
    "\n",
    "        path = os.path.join(Dataset_Dir,category)  # create path to categories\n",
    "        class_num = CATEGORIES.index(category)  # get the classification  \n",
    "        print (class_num)\n",
    "        \n",
    "        for img in tqdm(os.listdir(path)):  # iterate over each image per classes\n",
    "            try:\n",
    "                img_array = cv2.imread(os.path.join(path,img) ,cv2.COLOR_BGR2RGB)  # convert to array\n",
    "                new_array = cv2.resize(img_array, (IMG_SIZE, IMG_SIZE))  # resize to normalize data size\n",
    "                training_data.append([new_array, class_num])  # add this to our training_data\n",
    "            except Exception as e:  # in the interest in keeping the output clean...\n",
    "                pass\n",
    "create_training_data()            "
   ]
  },
  {
   "cell_type": "code",
   "execution_count": 9,
   "metadata": {},
   "outputs": [],
   "source": [
    "import pandas as pd\n",
    "df = pd.DataFrame(training_data, columns=['class', 'class_num'])"
   ]
  },
  {
   "cell_type": "code",
   "execution_count": 11,
   "metadata": {},
   "outputs": [
    {
     "name": "stdout",
     "output_type": "stream",
     "text": [
      "12115\n"
     ]
    }
   ],
   "source": [
    "print(len(training_data))"
   ]
  },
  {
   "cell_type": "code",
   "execution_count": 12,
   "metadata": {},
   "outputs": [],
   "source": [
    "X_train = []\n",
    "y_train = []"
   ]
  },
  {
   "cell_type": "code",
   "execution_count": 13,
   "metadata": {},
   "outputs": [],
   "source": [
    "for features,label in training_data:\n",
    "    X_train.append(features)\n",
    "    y_train.append(label)\n",
    "X_train = np.array(X_train).reshape(-1, IMG_SIZE, IMG_SIZE, 3)\n",
    "y_train = np.array(y_train)\n",
    "\n"
   ]
  },
  {
   "cell_type": "markdown",
   "metadata": {},
   "source": [
    "#Data scaling and Splitting 70% for training and 30% for testing"
   ]
  },
  {
   "cell_type": "code",
   "execution_count": 14,
   "metadata": {},
   "outputs": [],
   "source": [
    "\n",
    "X_train = X_train/255.0  \n",
    "\n",
    "X_train,X_test,y_train,y_test= train_test_split(X_train,y_train,test_size=0.3, random_state=1)"
   ]
  },
  {
   "cell_type": "code",
   "execution_count": 15,
   "metadata": {},
   "outputs": [
    {
     "data": {
      "text/plain": [
       "8480"
      ]
     },
     "execution_count": 15,
     "metadata": {},
     "output_type": "execute_result"
    }
   ],
   "source": [
    "len(X_train)"
   ]
  },
  {
   "cell_type": "code",
   "execution_count": 16,
   "metadata": {},
   "outputs": [
    {
     "data": {
      "text/plain": [
       "3635"
      ]
     },
     "execution_count": 16,
     "metadata": {},
     "output_type": "execute_result"
    }
   ],
   "source": [
    "len(X_test)"
   ]
  },
  {
   "cell_type": "markdown",
   "metadata": {},
   "source": [
    "# CNN with keras\n",
    "Let's start by defining the topology of Shallow Color CNN. A single Conv2D layer, followed by a Dropout layer to prevent overfitting, which then gets flattened into a conventional deep neural network, with 512 neurons, a 50% dropout layer, and the final softamx layer for eight possible classification results."
   ]
  },
  {
   "cell_type": "code",
   "execution_count": 18,
   "metadata": {},
   "outputs": [],
   "source": [
    "import tensorflow as tf\n",
    "from tensorflow.keras.models import Sequential\n",
    "from tensorflow.keras.layers import Dense, Conv2D, MaxPooling2D, Dropout, Flatten  \n",
    "def createModel(input_shape=(100,100,3)):\n",
    "    model = Sequential()\n",
    "    model.add(Conv2D(32, (3, 3), padding='same', activation='relu', input_shape=input_shape))#convolution layer\n",
    "    model.add(Dropout(0.25))\n",
    " \n",
    "    model.add(Flatten())#convert 2D to single dimension\n",
    "    model.add(Dense(512, activation='relu'))\n",
    "    model.add(Dropout(0.5))\n",
    "    model.add(Dense(8, activation='softmax')) #output eight classes\n",
    "         \n",
    "    return model"
   ]
  },
  {
   "cell_type": "code",
   "execution_count": 19,
   "metadata": {},
   "outputs": [],
   "source": [
    "opt = tf.keras.optimizers.RMSprop(lr=0.0001, decay=1e-6)\n",
    "\n",
    "model = createModel(X_train.shape[1:])\n",
    "\n",
    "model.compile(loss='sparse_categorical_crossentropy',\n",
    "              optimizer=opt,\n",
    "              metrics=['acc'])\n"
   ]
  },
  {
   "cell_type": "code",
   "execution_count": 20,
   "metadata": {
    "scrolled": true
   },
   "outputs": [
    {
     "name": "stdout",
     "output_type": "stream",
     "text": [
      "Model: \"sequential\"\n",
      "_________________________________________________________________\n",
      "Layer (type)                 Output Shape              Param #   \n",
      "=================================================================\n",
      "conv2d (Conv2D)              (None, 100, 100, 32)      896       \n",
      "_________________________________________________________________\n",
      "dropout (Dropout)            (None, 100, 100, 32)      0         \n",
      "_________________________________________________________________\n",
      "flatten (Flatten)            (None, 320000)            0         \n",
      "_________________________________________________________________\n",
      "dense (Dense)                (None, 512)               163840512 \n",
      "_________________________________________________________________\n",
      "dropout_1 (Dropout)          (None, 512)               0         \n",
      "_________________________________________________________________\n",
      "dense_1 (Dense)              (None, 8)                 4104      \n",
      "=================================================================\n",
      "Total params: 163,845,512\n",
      "Trainable params: 163,845,512\n",
      "Non-trainable params: 0\n",
      "_________________________________________________________________\n"
     ]
    }
   ],
   "source": [
    "model.summary()"
   ]
  },
  {
   "cell_type": "code",
   "execution_count": 21,
   "metadata": {},
   "outputs": [
    {
     "name": "stdout",
     "output_type": "stream",
     "text": [
      "Epoch 1/80\n",
      "67/67 [==============================] - 388s 6s/step - loss: 2.0490 - acc: 0.5744 - val_loss: 0.6836 - val_acc: 0.8143\n",
      "Epoch 2/80\n",
      "67/67 [==============================] - 380s 6s/step - loss: 0.6051 - acc: 0.8216 - val_loss: 0.4077 - val_acc: 0.8627\n",
      "Epoch 3/80\n",
      "67/67 [==============================] - 375s 6s/step - loss: 0.3971 - acc: 0.8784 - val_loss: 0.3289 - val_acc: 0.8941\n",
      "Epoch 4/80\n",
      "67/67 [==============================] - 385s 6s/step - loss: 0.2874 - acc: 0.9114 - val_loss: 0.3051 - val_acc: 0.8930\n",
      "Epoch 5/80\n",
      "67/67 [==============================] - 385s 6s/step - loss: 0.2384 - acc: 0.9254 - val_loss: 0.3192 - val_acc: 0.8911\n",
      "Epoch 6/80\n",
      "67/67 [==============================] - 378s 6s/step - loss: 0.1843 - acc: 0.9395 - val_loss: 0.2159 - val_acc: 0.9290\n",
      "Epoch 7/80\n",
      "67/67 [==============================] - 378s 6s/step - loss: 0.1592 - acc: 0.9482 - val_loss: 0.2224 - val_acc: 0.9252\n",
      "Epoch 8/80\n",
      "67/67 [==============================] - 379s 6s/step - loss: 0.1255 - acc: 0.9598 - val_loss: 0.1994 - val_acc: 0.9315\n",
      "Epoch 9/80\n",
      "67/67 [==============================] - 372s 6s/step - loss: 0.1038 - acc: 0.9678 - val_loss: 0.1897 - val_acc: 0.9329\n",
      "Epoch 10/80\n",
      "67/67 [==============================] - 381s 6s/step - loss: 0.0877 - acc: 0.9745 - val_loss: 0.1750 - val_acc: 0.9395\n",
      "Epoch 11/80\n",
      "67/67 [==============================] - 333s 5s/step - loss: 0.0681 - acc: 0.9800 - val_loss: 0.1874 - val_acc: 0.9378\n",
      "Epoch 12/80\n",
      "67/67 [==============================] - 339s 5s/step - loss: 0.0581 - acc: 0.9835 - val_loss: 0.1876 - val_acc: 0.9387\n",
      "Epoch 13/80\n",
      "67/67 [==============================] - 334s 5s/step - loss: 0.0484 - acc: 0.9873 - val_loss: 0.1751 - val_acc: 0.9403\n",
      "Epoch 14/80\n",
      "67/67 [==============================] - 333s 5s/step - loss: 0.0385 - acc: 0.9901 - val_loss: 0.1677 - val_acc: 0.9458\n",
      "Epoch 15/80\n",
      "67/67 [==============================] - 338s 5s/step - loss: 0.0324 - acc: 0.9913 - val_loss: 0.1826 - val_acc: 0.9411\n",
      "Epoch 16/80\n",
      "67/67 [==============================] - 337s 5s/step - loss: 0.0288 - acc: 0.9928 - val_loss: 0.1765 - val_acc: 0.9466\n",
      "Epoch 17/80\n",
      "67/67 [==============================] - 335s 5s/step - loss: 0.0240 - acc: 0.9934 - val_loss: 0.1901 - val_acc: 0.9431\n",
      "Epoch 18/80\n",
      "67/67 [==============================] - 333s 5s/step - loss: 0.0210 - acc: 0.9952 - val_loss: 0.1828 - val_acc: 0.9455\n",
      "Epoch 19/80\n",
      "67/67 [==============================] - 335s 5s/step - loss: 0.0163 - acc: 0.9969 - val_loss: 0.1958 - val_acc: 0.9436\n",
      "Epoch 20/80\n",
      "67/67 [==============================] - 335s 5s/step - loss: 0.0169 - acc: 0.9972 - val_loss: 0.1921 - val_acc: 0.9414\n",
      "Epoch 21/80\n",
      "67/67 [==============================] - 339s 5s/step - loss: 0.0140 - acc: 0.9969 - val_loss: 0.1901 - val_acc: 0.9455\n",
      "Epoch 22/80\n",
      "67/67 [==============================] - 335s 5s/step - loss: 0.0141 - acc: 0.9968 - val_loss: 0.1829 - val_acc: 0.9475\n",
      "Epoch 23/80\n",
      "67/67 [==============================] - 332s 5s/step - loss: 0.0085 - acc: 0.9981 - val_loss: 0.2197 - val_acc: 0.9409\n",
      "Epoch 24/80\n",
      "67/67 [==============================] - 334s 5s/step - loss: 0.0104 - acc: 0.9980 - val_loss: 0.1928 - val_acc: 0.9483\n",
      "Epoch 25/80\n",
      "67/67 [==============================] - 332s 5s/step - loss: 0.0092 - acc: 0.9982 - val_loss: 0.2078 - val_acc: 0.9450\n",
      "Epoch 26/80\n",
      "67/67 [==============================] - 337s 5s/step - loss: 0.0083 - acc: 0.9987 - val_loss: 0.2044 - val_acc: 0.9466\n",
      "Epoch 27/80\n",
      "67/67 [==============================] - 336s 5s/step - loss: 0.0070 - acc: 0.9985 - val_loss: 0.2047 - val_acc: 0.9455\n",
      "Epoch 28/80\n",
      "67/67 [==============================] - 332s 5s/step - loss: 0.0057 - acc: 0.9989 - val_loss: 0.2079 - val_acc: 0.9466\n",
      "Epoch 29/80\n",
      "67/67 [==============================] - 333s 5s/step - loss: 0.0054 - acc: 0.9989 - val_loss: 0.2062 - val_acc: 0.9475\n",
      "Epoch 30/80\n",
      "67/67 [==============================] - 331s 5s/step - loss: 0.0056 - acc: 0.9988 - val_loss: 0.2085 - val_acc: 0.9488\n",
      "Epoch 31/80\n",
      "67/67 [==============================] - 332s 5s/step - loss: 0.0044 - acc: 0.9987 - val_loss: 0.2248 - val_acc: 0.9472\n",
      "Epoch 32/80\n",
      "67/67 [==============================] - 329s 5s/step - loss: 0.0056 - acc: 0.9988 - val_loss: 0.2251 - val_acc: 0.9455\n",
      "Epoch 33/80\n",
      "67/67 [==============================] - 333s 5s/step - loss: 0.0066 - acc: 0.9985 - val_loss: 0.2390 - val_acc: 0.9455\n",
      "Epoch 34/80\n",
      "67/67 [==============================] - 325s 5s/step - loss: 0.0040 - acc: 0.9992 - val_loss: 0.2455 - val_acc: 0.9428\n",
      "Epoch 35/80\n",
      "67/67 [==============================] - 321s 5s/step - loss: 0.0043 - acc: 0.9991 - val_loss: 0.2195 - val_acc: 0.9499\n",
      "Epoch 36/80\n",
      "67/67 [==============================] - 319s 5s/step - loss: 0.0064 - acc: 0.9989 - val_loss: 0.2255 - val_acc: 0.9480\n",
      "Epoch 37/80\n",
      "67/67 [==============================] - 325s 5s/step - loss: 0.0048 - acc: 0.9992 - val_loss: 0.2316 - val_acc: 0.9475\n",
      "Epoch 38/80\n",
      "67/67 [==============================] - 327s 5s/step - loss: 0.0040 - acc: 0.9991 - val_loss: 0.2412 - val_acc: 0.9458\n",
      "Epoch 39/80\n",
      "67/67 [==============================] - 323s 5s/step - loss: 0.0039 - acc: 0.9991 - val_loss: 0.2390 - val_acc: 0.9455\n",
      "Epoch 40/80\n",
      "67/67 [==============================] - 319s 5s/step - loss: 0.0046 - acc: 0.9989 - val_loss: 0.2480 - val_acc: 0.9458\n",
      "Epoch 41/80\n",
      "67/67 [==============================] - 323s 5s/step - loss: 0.0026 - acc: 0.9994 - val_loss: 0.2446 - val_acc: 0.9453\n",
      "Epoch 42/80\n",
      "67/67 [==============================] - 324s 5s/step - loss: 0.0038 - acc: 0.9993 - val_loss: 0.2500 - val_acc: 0.9464\n",
      "Epoch 43/80\n",
      "67/67 [==============================] - 326s 5s/step - loss: 0.0040 - acc: 0.9993 - val_loss: 0.2695 - val_acc: 0.9444\n",
      "Epoch 44/80\n",
      "67/67 [==============================] - 326s 5s/step - loss: 0.0038 - acc: 0.9992 - val_loss: 0.2597 - val_acc: 0.9442\n",
      "Epoch 45/80\n",
      "67/67 [==============================] - 323s 5s/step - loss: 0.0043 - acc: 0.9987 - val_loss: 0.2604 - val_acc: 0.9458\n",
      "Epoch 46/80\n",
      "67/67 [==============================] - 319s 5s/step - loss: 0.0049 - acc: 0.9994 - val_loss: 0.2773 - val_acc: 0.9403\n",
      "Epoch 47/80\n",
      "67/67 [==============================] - 320s 5s/step - loss: 0.0027 - acc: 0.9994 - val_loss: 0.2627 - val_acc: 0.9455\n",
      "Epoch 48/80\n",
      "67/67 [==============================] - 322s 5s/step - loss: 0.0037 - acc: 0.9991 - val_loss: 0.2476 - val_acc: 0.9486\n",
      "Epoch 49/80\n",
      "67/67 [==============================] - 326s 5s/step - loss: 0.0018 - acc: 0.9998 - val_loss: 0.2650 - val_acc: 0.9455\n",
      "Epoch 50/80\n",
      "67/67 [==============================] - 323s 5s/step - loss: 0.0032 - acc: 0.9993 - val_loss: 0.2698 - val_acc: 0.9453\n",
      "Epoch 51/80\n",
      "67/67 [==============================] - 324s 5s/step - loss: 0.0022 - acc: 0.9992 - val_loss: 0.2727 - val_acc: 0.9455\n",
      "Epoch 52/80\n",
      "67/67 [==============================] - 325s 5s/step - loss: 0.0028 - acc: 0.9994 - val_loss: 0.2753 - val_acc: 0.9455\n",
      "Epoch 53/80\n",
      "67/67 [==============================] - 324s 5s/step - loss: 0.0037 - acc: 0.9992 - val_loss: 0.2703 - val_acc: 0.9439\n",
      "Epoch 54/80\n",
      "67/67 [==============================] - 324s 5s/step - loss: 0.0025 - acc: 0.9995 - val_loss: 0.2798 - val_acc: 0.9483\n",
      "Epoch 55/80\n",
      "67/67 [==============================] - 337s 5s/step - loss: 0.0025 - acc: 0.9993 - val_loss: 0.2816 - val_acc: 0.9458\n",
      "Epoch 56/80\n",
      "67/67 [==============================] - 324s 5s/step - loss: 0.0036 - acc: 0.9991 - val_loss: 0.2804 - val_acc: 0.9475\n",
      "Epoch 57/80\n",
      "67/67 [==============================] - 327s 5s/step - loss: 0.0033 - acc: 0.9994 - val_loss: 0.2846 - val_acc: 0.9444\n",
      "Epoch 58/80\n",
      "67/67 [==============================] - 324s 5s/step - loss: 0.0033 - acc: 0.9991 - val_loss: 0.2807 - val_acc: 0.9458\n",
      "Epoch 59/80\n",
      "67/67 [==============================] - 326s 5s/step - loss: 0.0036 - acc: 0.9991 - val_loss: 0.2788 - val_acc: 0.9461\n",
      "Epoch 60/80\n",
      "67/67 [==============================] - 327s 5s/step - loss: 0.0031 - acc: 0.9995 - val_loss: 0.3035 - val_acc: 0.9464\n",
      "Epoch 61/80\n",
      "67/67 [==============================] - 325s 5s/step - loss: 0.0022 - acc: 0.9996 - val_loss: 0.2997 - val_acc: 0.9453\n",
      "Epoch 62/80\n",
      "67/67 [==============================] - 324s 5s/step - loss: 0.0030 - acc: 0.9991 - val_loss: 0.2748 - val_acc: 0.9488\n",
      "Epoch 63/80\n",
      "67/67 [==============================] - 323s 5s/step - loss: 0.0031 - acc: 0.9992 - val_loss: 0.2924 - val_acc: 0.9453\n",
      "Epoch 64/80\n",
      "67/67 [==============================] - 335s 5s/step - loss: 0.0036 - acc: 0.9992 - val_loss: 0.2815 - val_acc: 0.9464\n",
      "Epoch 65/80\n",
      "67/67 [==============================] - 340s 5s/step - loss: 0.0038 - acc: 0.9992 - val_loss: 0.3037 - val_acc: 0.9458\n",
      "Epoch 66/80\n",
      "67/67 [==============================] - 344s 5s/step - loss: 0.0015 - acc: 0.9996 - val_loss: 0.2856 - val_acc: 0.9477\n",
      "Epoch 67/80\n",
      "67/67 [==============================] - 345s 5s/step - loss: 0.0036 - acc: 0.9993 - val_loss: 0.3126 - val_acc: 0.9464\n",
      "Epoch 68/80\n",
      "67/67 [==============================] - 345s 5s/step - loss: 0.0036 - acc: 0.9992 - val_loss: 0.2959 - val_acc: 0.9469\n",
      "Epoch 69/80\n",
      "67/67 [==============================] - 343s 5s/step - loss: 0.0036 - acc: 0.9995 - val_loss: 0.2972 - val_acc: 0.9458\n",
      "Epoch 70/80\n",
      "67/67 [==============================] - 331s 5s/step - loss: 0.0032 - acc: 0.9992 - val_loss: 0.2909 - val_acc: 0.9491\n",
      "Epoch 71/80\n",
      "67/67 [==============================] - 328s 5s/step - loss: 0.0017 - acc: 0.9995 - val_loss: 0.3168 - val_acc: 0.9433\n",
      "Epoch 72/80\n",
      "67/67 [==============================] - 345s 5s/step - loss: 0.0026 - acc: 0.9996 - val_loss: 0.2948 - val_acc: 0.9475\n",
      "Epoch 73/80\n",
      "67/67 [==============================] - 359s 5s/step - loss: 0.0039 - acc: 0.9994 - val_loss: 0.3154 - val_acc: 0.9442\n",
      "Epoch 74/80\n",
      "67/67 [==============================] - 357s 5s/step - loss: 0.0024 - acc: 0.9991 - val_loss: 0.3182 - val_acc: 0.9447\n",
      "Epoch 75/80\n",
      "67/67 [==============================] - 364s 5s/step - loss: 0.0018 - acc: 0.9994 - val_loss: 0.3409 - val_acc: 0.9417\n",
      "Epoch 76/80\n",
      "67/67 [==============================] - 357s 5s/step - loss: 0.0043 - acc: 0.9994 - val_loss: 0.2995 - val_acc: 0.9472\n",
      "Epoch 77/80\n",
      "67/67 [==============================] - 338s 5s/step - loss: 0.0032 - acc: 0.9993 - val_loss: 0.3094 - val_acc: 0.9447\n",
      "Epoch 78/80\n",
      "67/67 [==============================] - 335s 5s/step - loss: 0.0019 - acc: 0.9996 - val_loss: 0.3198 - val_acc: 0.9433\n",
      "Epoch 79/80\n",
      "67/67 [==============================] - 344s 5s/step - loss: 0.0040 - acc: 0.9992 - val_loss: 0.3072 - val_acc: 0.9458\n",
      "Epoch 80/80\n",
      "67/67 [==============================] - 343s 5s/step - loss: 0.0030 - acc: 0.9994 - val_loss: 0.3157 - val_acc: 0.9447\n"
     ]
    }
   ],
   "source": [
    "history=model.fit(X_train, y_train, batch_size=128, epochs=80, validation_data=(X_test,y_test))"
   ]
  },
  {
   "cell_type": "code",
   "execution_count": 22,
   "metadata": {},
   "outputs": [
    {
     "name": "stdout",
     "output_type": "stream",
     "text": [
      "114/114 [==============================] - 66s 582ms/step - loss: 0.3157 - acc: 0.9447\n",
      "Test loss: 0.3157425820827484\n",
      "Test accuracy: 0.9447042346000671\n"
     ]
    }
   ],
   "source": [
    "scores = model.evaluate(X_test, y_test, verbose=1)\n",
    "print('Test loss:', scores[0])\n",
    "print('Test accuracy:', scores[1])"
   ]
  },
  {
   "cell_type": "code",
   "execution_count": 23,
   "metadata": {},
   "outputs": [],
   "source": [
    "model.save('ShallowcolorCNN_80.h5')"
   ]
  },
  {
   "cell_type": "code",
   "execution_count": 24,
   "metadata": {},
   "outputs": [
    {
     "data": {
      "image/png": "[encoded data removed]",
      "text/plain": [
       "<Figure size 432x288 with 1 Axes>"
      ]
     },
     "metadata": {
      "needs_background": "light"
     },
     "output_type": "display_data"
    }
   ],
   "source": [
    "import keras\n",
    "from matplotlib import pyplot as plt\n",
    "#history = model1.fit(train_x, train_y,validation_split = 0.1, epochs=10, batch_size=32)\n",
    "plt.plot(history.history['acc'])\n",
    "plt.plot(history.history['val_acc'])\n",
    "plt.title('model accuracy')\n",
    "plt.ylabel('accuracy')\n",
    "plt.xlabel('epoch')\n",
    "plt.legend(['train', 'val'], loc='upper left')\n",
    "plt.show()"
   ]
  },
  {
   "cell_type": "code",
   "execution_count": 25,
   "metadata": {},
   "outputs": [
    {
     "name": "stdout",
     "output_type": "stream",
     "text": [
      "WARNING:tensorflow:From <ipython-input-25-9a8fabb6c846>:2: Sequential.predict_classes (from tensorflow.python.keras.engine.sequential) is deprecated and will be removed after 2021-01-01.\n",
      "Instructions for updating:\n",
      "Please use instead:* `np.argmax(model.predict(x), axis=-1)`,   if your model does multi-class classification   (e.g. if it uses a `softmax` last-layer activation).* `(model.predict(x) > 0.5).astype(\"int32\")`,   if your model does binary classification   (e.g. if it uses a `sigmoid` last-layer activation).\n"
     ]
    }
   ],
   "source": [
    "# make a prediction\n",
    "y_train_predict = model.predict_classes(X_train)\n"
   ]
  },
  {
   "cell_type": "code",
   "execution_count": 27,
   "metadata": {},
   "outputs": [
    {
     "data": {
      "image/png": "[encoded data removed]",
      "text/plain": [
       "<Figure size 432x288 with 1 Axes>"
      ]
     },
     "metadata": {
      "needs_background": "light"
     },
     "output_type": "display_data"
    }
   ],
   "source": [
    "plt.plot(history.history['loss'])\n",
    "plt.plot(history.history['val_loss'])\n",
    "plt.title('model loss')\n",
    "plt.ylabel('loss')\n",
    "plt.xlabel('epoch')\n",
    "plt.legend(['train', 'val'], loc='upper left')\n",
    "plt.show()"
   ]
  },
  {
   "cell_type": "code",
   "execution_count": 28,
   "metadata": {},
   "outputs": [],
   "source": [
    "from sklearn.metrics import classification_report\n",
    "\n",
    "predictions = model.predict_classes(X_test)"
   ]
  },
  {
   "cell_type": "code",
   "execution_count": 29,
   "metadata": {},
   "outputs": [
    {
     "name": "stdout",
     "output_type": "stream",
     "text": [
      "              precision    recall  f1-score   support\n",
      "\n",
      "           0       0.91      0.95      0.93       500\n",
      "           1       0.96      0.94      0.95       452\n",
      "           2       0.97      1.00      0.98       454\n",
      "           3       0.87      0.84      0.85       465\n",
      "           4       0.98      0.92      0.95       402\n",
      "           5       0.90      0.94      0.92       451\n",
      "           6       0.99      0.98      0.98       457\n",
      "           7       0.98      0.99      0.99       454\n",
      "\n",
      "    accuracy                           0.94      3635\n",
      "   macro avg       0.95      0.94      0.95      3635\n",
      "weighted avg       0.95      0.94      0.94      3635\n",
      "\n"
     ]
    }
   ],
   "source": [
    "print(classification_report(y_test,predictions))"
   ]
  },
  {
   "cell_type": "code",
   "execution_count": 30,
   "metadata": {},
   "outputs": [],
   "source": [
    "y_test_predict = model.predict_classes(X_test)"
   ]
  },
  {
   "cell_type": "code",
   "execution_count": null,
   "metadata": {},
   "outputs": [],
   "source": [
    "cm = confusion_matrix(y_test, y_test_predict)\n",
    "#plt.figure(figsize=(10, 10))\n",
    "#plt.figure(figsize=(10, 9))\n",
    "plt.title('Confusion matrix for test ')\n",
    "ax=sns.heatmap(cm, annot=True, fmt=\"d\")\n",
    "ax.set_ylim(sorted(ax.get_xlim(), reverse=True))\n"
   ]
  },
  {
   "cell_type": "code",
   "execution_count": 32,
   "metadata": {},
   "outputs": [
    {
     "data": {
      "text/plain": [
       "(8.0, 0.0)"
      ]
     },
     "execution_count": 32,
     "metadata": {},
     "output_type": "execute_result"
    },
    {
     "data": {
      "image/png": "[encoded data removed]",
      "text/plain": [
       "<Figure size 432x432 with 2 Axes>"
      ]
     },
     "metadata": {
      "needs_background": "light"
     },
     "output_type": "display_data"
    }
   ],
   "source": [
    "from sklearn.metrics import confusion_matrix,ConfusionMatrixDisplay\n",
    "import matplotlib.pyplot as plt\n",
    "import seaborn as sns\n",
    "%matplotlib inline\n",
    "cm = confusion_matrix(y_test,y_test_predict)\n",
    "plt.figure(figsize=(6, 6))\n",
    "\n",
    "\n",
    "plt.title('Confusion test matrix Shallow Color CNN')\n",
    "\n",
    "\n",
    "ax=sns.heatmap(cm, annot=True, fmt=\"d\")\n",
    "ax.xaxis.set_ticklabels([\"black\", \"blue\",\"cyan\",\"gray\",\"green\",\"white\",\"yellow\",\"red\"]); ax.yaxis.set_ticklabels([\"black\", \"blue\",\"cyan\",\"gray\",\"green\",\"white\",\"yellow\",\"red\"]);\n",
    "ax.set_ylim(sorted(ax.get_xlim(), reverse=True))"
   ]
  }
 ],
 "metadata": {
  "kernelspec": {
   "display_name": "Python 3",
   "language": "python",
   "name": "python3"
  },
  "language_info": {
   "codemirror_mode": {
    "name": "ipython",
    "version": 3
   },
   "file_extension": ".py",
   "mimetype": "text/x-python",
   "name": "python",
   "nbconvert_exporter": "python",
   "pygments_lexer": "ipython3",
   "version": "3.7.10"
  }
 },
 "nbformat": 4,
 "nbformat_minor": 2
}
