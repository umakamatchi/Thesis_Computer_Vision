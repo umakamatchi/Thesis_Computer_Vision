{
 "cells": [
  {
   "cell_type": "code",
   "execution_count": 1,
   "metadata": {},
   "outputs": [],
   "source": [
    "import cv2\n",
    "import numpy as np\n",
    "import matplotlib.pyplot as plt\n",
    "import os\n",
    "from tqdm import tqdm\n",
    "from keras.models import Sequential, Model\n",
    "from keras.layers import Dense, Dropout, Activation, Flatten, BatchNormalization\n",
    "from keras.layers import Conv2D, MaxPooling2D\n",
    "from keras.utils import to_categorical\n",
    "from keras import Input\n",
    "from keras import optimizers\n",
    "import random\n",
    "from sklearn.metrics import accuracy_score\n",
    "from sklearn.metrics import classification_report, confusion_matrix\n",
    "from sklearn.model_selection import train_test_split\n",
    "\n"
   ]
  },
  {
   "cell_type": "code",
   "execution_count": 2,
   "metadata": {},
   "outputs": [],
   "source": [
    "import pandas as pd\n",
    "'''walks through the train directory, creates a dataframe with class and filepaths for all images present in the train directory'''\n",
    "\n",
    "Dataset_Dir=\"C:\\\\Users\\\\Uma\\\\Anacondanew\\\\envs\\\\uma_tensor\\\\CNN COLOR Shallow\\\\\\color_clean_balanced\\\\Type_data_training\\\\\"\n",
    "\n",
    "\n",
    "data = []\n",
    "for category in sorted(os.listdir(Dataset_Dir)):\n",
    "    for file in sorted(os.listdir(os.path.join(Dataset_Dir, category))):\n",
    "        data.append((category, os.path.join(Dataset_Dir, category,  file)))\n",
    "\n",
    "df = pd.DataFrame(data, columns=['class', 'file_path'])"
   ]
  },
  {
   "cell_type": "code",
   "execution_count": 3,
   "metadata": {},
   "outputs": [
    {
     "data": {
      "text/plain": [
       "'C:\\\\Users\\\\Uma\\\\Anacondanew\\\\envs\\\\uma_tensor\\\\CNN COLOR Shallow'"
      ]
     },
     "execution_count": 3,
     "metadata": {},
     "output_type": "execute_result"
    }
   ],
   "source": [
    "pwd"
   ]
  },
  {
   "cell_type": "code",
   "execution_count": 4,
   "metadata": {},
   "outputs": [],
   "source": [
    "#df.head()"
   ]
  },
  {
   "cell_type": "code",
   "execution_count": 5,
   "metadata": {},
   "outputs": [
    {
     "name": "stdout",
     "output_type": "stream",
     "text": [
      "There are 9012 images\n"
     ]
    }
   ],
   "source": [
    "len_df = len(df)\n",
    "print(f\"There are {len_df} images\")"
   ]
  },
  {
   "cell_type": "code",
   "execution_count": 6,
   "metadata": {
    "scrolled": true
   },
   "outputs": [
    {
     "data": {
      "image/png": "[encoded data removed]",
      "text/plain": [
       "<Figure size 432x288 with 1 Axes>"
      ]
     },
     "metadata": {
      "needs_background": "light"
     },
     "output_type": "display_data"
    }
   ],
   "source": [
    "df['class'].value_counts().plot(kind='bar');\n",
    "plt.title('Class counts');"
   ]
  },
  {
   "cell_type": "code",
   "execution_count": 7,
   "metadata": {},
   "outputs": [
    {
     "name": "stderr",
     "output_type": "stream",
     "text": [
      "  0%|          | 5/1467 [00:00<00:32, 45.21it/s]"
     ]
    },
    {
     "name": "stdout",
     "output_type": "stream",
     "text": [
      "0\n"
     ]
    },
    {
     "name": "stderr",
     "output_type": "stream",
     "text": [
      "100%|██████████| 1467/1467 [01:06<00:00, 22.11it/s]\n",
      "  0%|          | 1/1496 [00:00<02:33,  9.73it/s]"
     ]
    },
    {
     "name": "stdout",
     "output_type": "stream",
     "text": [
      "1\n"
     ]
    },
    {
     "name": "stderr",
     "output_type": "stream",
     "text": [
      "100%|██████████| 1496/1496 [01:01<00:00, 24.29it/s]\n",
      "  0%|          | 7/1528 [00:00<00:41, 36.77it/s]"
     ]
    },
    {
     "name": "stdout",
     "output_type": "stream",
     "text": [
      "2\n"
     ]
    },
    {
     "name": "stderr",
     "output_type": "stream",
     "text": [
      "100%|██████████| 1528/1528 [00:54<00:00, 28.14it/s]\n",
      "  0%|          | 0/1518 [00:00<?, ?it/s]"
     ]
    },
    {
     "name": "stdout",
     "output_type": "stream",
     "text": [
      "3\n"
     ]
    },
    {
     "name": "stderr",
     "output_type": "stream",
     "text": [
      "100%|██████████| 1518/1518 [00:52<00:00, 28.70it/s]\n",
      "  1%|          | 10/1507 [00:00<00:17, 86.76it/s]"
     ]
    },
    {
     "name": "stdout",
     "output_type": "stream",
     "text": [
      "4\n"
     ]
    },
    {
     "name": "stderr",
     "output_type": "stream",
     "text": [
      "100%|██████████| 1507/1507 [00:17<00:00, 87.65it/s]\n",
      "  1%|          | 11/1496 [00:00<00:15, 97.22it/s]"
     ]
    },
    {
     "name": "stdout",
     "output_type": "stream",
     "text": [
      "5\n"
     ]
    },
    {
     "name": "stderr",
     "output_type": "stream",
     "text": [
      "100%|██████████| 1496/1496 [00:19<00:00, 77.81it/s]\n"
     ]
    }
   ],
   "source": [
    "CATEGORIES = [\"Bus\", \"Truck\",\"Motorcycle\",\"Van\",\"suv\",\"sedan\"]\n",
    "\n",
    "\n",
    "\n",
    "\n",
    "IMG_SIZE = 100\n",
    "training_data = []\n",
    "\n",
    "#for training \n",
    "def create_training_data():\n",
    "    for category in CATEGORIES:  \n",
    "\n",
    "        path = os.path.join(Dataset_Dir,category)  # create path to categories\n",
    "        class_num = CATEGORIES.index(category)  # get the classification  \n",
    "        print (class_num)\n",
    "        \n",
    "        for img in tqdm(os.listdir(path)):  # iterate over each image per classes\n",
    "            try:\n",
    "                img_array = cv2.imread(os.path.join(path,img) ,cv2.COLOR_BGR2RGB)  # convert to array\n",
    "                new_array = cv2.resize(img_array, (IMG_SIZE, IMG_SIZE))  # resize to normalize data size\n",
    "                training_data.append([new_array, class_num])  # add this to our training_data\n",
    "            except Exception as e:  # in the interest in keeping the output clean...\n",
    "                pass\n",
    "create_training_data()            "
   ]
  },
  {
   "cell_type": "code",
   "execution_count": 8,
   "metadata": {},
   "outputs": [],
   "source": [
    "import pandas as pd\n",
    "df = pd.DataFrame(training_data, columns=['class', 'class_num'])"
   ]
  },
  {
   "cell_type": "code",
   "execution_count": 9,
   "metadata": {},
   "outputs": [],
   "source": [
    "#df.head()"
   ]
  },
  {
   "cell_type": "code",
   "execution_count": 10,
   "metadata": {},
   "outputs": [
    {
     "name": "stdout",
     "output_type": "stream",
     "text": [
      "9012\n"
     ]
    }
   ],
   "source": [
    "print(len(training_data))"
   ]
  },
  {
   "cell_type": "code",
   "execution_count": 11,
   "metadata": {},
   "outputs": [],
   "source": [
    "X_train = []\n",
    "y_train = []"
   ]
  },
  {
   "cell_type": "code",
   "execution_count": 12,
   "metadata": {},
   "outputs": [],
   "source": [
    "for features,label in training_data:\n",
    "    X_train.append(features)\n",
    "    y_train.append(label)\n",
    "X_train = np.array(X_train).reshape(-1, IMG_SIZE, IMG_SIZE, 3)\n",
    "y_train = np.array(y_train)\n",
    "\n"
   ]
  },
  {
   "cell_type": "code",
   "execution_count": 13,
   "metadata": {},
   "outputs": [],
   "source": [
    "X_train = X_train/255.0  \n",
    "\n",
    "X_train,X_test,y_train,y_test= train_test_split(X_train,y_train,test_size=0.3, random_state=1)"
   ]
  },
  {
   "cell_type": "code",
   "execution_count": 14,
   "metadata": {},
   "outputs": [
    {
     "data": {
      "text/plain": [
       "6308"
      ]
     },
     "execution_count": 14,
     "metadata": {},
     "output_type": "execute_result"
    }
   ],
   "source": [
    "len(X_train)"
   ]
  },
  {
   "cell_type": "code",
   "execution_count": 15,
   "metadata": {},
   "outputs": [
    {
     "data": {
      "text/plain": [
       "2704"
      ]
     },
     "execution_count": 15,
     "metadata": {},
     "output_type": "execute_result"
    }
   ],
   "source": [
    "len(X_test)"
   ]
  },
  {
   "cell_type": "code",
   "execution_count": 16,
   "metadata": {},
   "outputs": [
    {
     "data": {
      "text/plain": [
       "2704"
      ]
     },
     "execution_count": 16,
     "metadata": {},
     "output_type": "execute_result"
    }
   ],
   "source": [
    "len(y_test)"
   ]
  },
  {
   "cell_type": "code",
   "execution_count": 17,
   "metadata": {},
   "outputs": [
    {
     "data": {
      "text/plain": [
       "6308"
      ]
     },
     "execution_count": 17,
     "metadata": {},
     "output_type": "execute_result"
    }
   ],
   "source": [
    "len(y_train)"
   ]
  },
  {
   "cell_type": "code",
   "execution_count": 18,
   "metadata": {},
   "outputs": [
    {
     "data": {
      "text/plain": [
       "100"
      ]
     },
     "execution_count": 18,
     "metadata": {},
     "output_type": "execute_result"
    }
   ],
   "source": [
    "len(features)"
   ]
  },
  {
   "cell_type": "markdown",
   "metadata": {},
   "source": [
    "# CNN (VGG)\n",
    "Two sets of convolution layer to learn local features like edges and corners in the images with 32 filters followed by nonlinear activation layer ReLU and batch normalization (BN) layer will normalize the activation to have zero mean and unit variance. This helps in effectively reducing the number of epochs to train the network. \n",
    "\n",
    "Then, the added Pooling layer with a size of 2x2 reduces the spatial dimensions of input, followed by a dropout of 25% is applied to prevent overfitting. \n",
    "\n",
    "The same pattern is repeated for another set of convolution layers to learn more complex patterns in the data with 64 filters; then the network is flattened to a single-dimensional vector with 512 neurons followed by a fully-connected layer, activation layer ReLU, BN, and dropout of 50%.\n",
    "\n",
    "Finally, a softmax classifier is applied to classify Six color classes. "
   ]
  },
  {
   "cell_type": "code",
   "execution_count": 19,
   "metadata": {},
   "outputs": [],
   "source": [
    "# import the necessary packages\n",
    "from tensorflow.keras.models import Sequential\n",
    "from tensorflow.keras.layers import BatchNormalization\n",
    "from tensorflow.keras.layers import Conv2D\n",
    "from tensorflow.keras.layers import MaxPooling2D\n",
    "from tensorflow.keras.layers import Activation\n",
    "from tensorflow.keras.layers import Flatten\n",
    "from tensorflow.keras.layers import Dropout\n",
    "from tensorflow.keras.layers import Dense\n",
    "from tensorflow.keras import backend as K\n",
    "\n",
    "class MiniVGGNet:\n",
    "    @staticmethod\n",
    "    def build(width, height, depth, classes):\n",
    "        # initialize the model along with the input shape to be\n",
    "        # \"channels last\" and the channels dimension itself\n",
    "        model = Sequential()\n",
    "        inputShape = (height, width, depth)\n",
    "        chanDim = -1\n",
    "\n",
    "        # if we are using \"channels first\", update the input shape\n",
    "        # and channels dimension\n",
    "        if K.image_data_format() == \"channels_first\":\n",
    "            inputShape = (depth, height, width)\n",
    "            chanDim = 1\n",
    "\n",
    "            # first CONV => RELU => CONV => RELU => POOL layer set\n",
    "            model.add(Conv2D(32, (3, 3), padding=\"same\",\n",
    "                             input_shape=inputShape))\n",
    "            model.add(Activation(\"relu\"))\n",
    "            model.add(BatchNormalization(axis=chanDim))\n",
    "            model.add(Conv2D(32, (3, 3), padding=\"same\"))\n",
    "            model.add(Activation(\"relu\"))\n",
    "            model.add(BatchNormalization(axis=chanDim))\n",
    "            model.add(MaxPooling2D(pool_size=(2, 2)))\n",
    "            model.add(Dropout(0.25))\n",
    "\n",
    "            # second CONV => RELU => CONV => RELU => POOL layer set\n",
    "            model.add(Conv2D(64, (3, 3), padding=\"same\"))\n",
    "            model.add(Activation(\"relu\"))\n",
    "            model.add(BatchNormalization(axis=chanDim))\n",
    "            model.add(Conv2D(64, (3, 3), padding=\"same\"))\n",
    "            model.add(Activation(\"relu\"))\n",
    "            model.add(BatchNormalization(axis=chanDim))\n",
    "            model.add(MaxPooling2D(pool_size=(2, 2)))\n",
    "            model.add(Dropout(0.25))\n",
    "\n",
    "            # first (and only) set of FC => RELU layers\n",
    "            model.add(Flatten())\n",
    "            model.add(Dense(512))\n",
    "            model.add(Activation(\"relu\"))\n",
    "            model.add(BatchNormalization())\n",
    "            model.add(Dropout(0.50))\n",
    "\n",
    "            # softmax classifier\n",
    "            model.add(Dense(classes))\n",
    "            model.add(Activation(\"softmax\"))\n",
    "\n",
    "            # return the constructed network architecture\n",
    "            return model"
   ]
  },
  {
   "cell_type": "code",
   "execution_count": 20,
   "metadata": {},
   "outputs": [
    {
     "name": "stdout",
     "output_type": "stream",
     "text": [
      "[INFO] compiling model...\n"
     ]
    }
   ],
   "source": [
    "# initialize the optimizer and model\n",
    "print(\"[INFO] compiling model...\")\n",
    "from tensorflow.keras.optimizers import SGD\n",
    "opt = SGD(lr=0.0001, decay=1e-6, momentum=0.9)\n",
    "model = MiniVGGNet.build(width=100, height=100, depth=3, classes=6)\n",
    "model.compile(loss=\"sparse_categorical_crossentropy\", optimizer=opt,\n",
    "\tmetrics=[\"accuracy\"])"
   ]
  },
  {
   "cell_type": "code",
   "execution_count": 21,
   "metadata": {},
   "outputs": [
    {
     "name": "stdout",
     "output_type": "stream",
     "text": [
      "[INFO] training network...\n",
      "Epoch 1/30\n",
      "99/99 [==============================] - 245s 2s/step - loss: 1.7460 - accuracy: 0.4455 - val_loss: 4.1780 - val_accuracy: 0.1598\n",
      "Epoch 2/30\n",
      "99/99 [==============================] - 242s 2s/step - loss: 1.0636 - accuracy: 0.6432 - val_loss: 7.1313 - val_accuracy: 0.1598\n",
      "Epoch 3/30\n",
      "99/99 [==============================] - 261s 3s/step - loss: 0.8920 - accuracy: 0.6923 - val_loss: 7.0247 - val_accuracy: 0.1598\n",
      "Epoch 4/30\n",
      "99/99 [==============================] - 259s 3s/step - loss: 0.7435 - accuracy: 0.7430 - val_loss: 4.3169 - val_accuracy: 0.2145\n",
      "Epoch 5/30\n",
      "99/99 [==============================] - 235s 2s/step - loss: 0.6849 - accuracy: 0.7701 - val_loss: 2.1296 - val_accuracy: 0.4197\n",
      "Epoch 6/30\n",
      "99/99 [==============================] - 229s 2s/step - loss: 0.6338 - accuracy: 0.7771 - val_loss: 1.1632 - val_accuracy: 0.6317\n",
      "Epoch 7/30\n",
      "99/99 [==============================] - 219s 2s/step - loss: 0.5697 - accuracy: 0.8017 - val_loss: 0.8589 - val_accuracy: 0.7345\n",
      "Epoch 8/30\n",
      "99/99 [==============================] - 223s 2s/step - loss: 0.5427 - accuracy: 0.8120 - val_loss: 0.7137 - val_accuracy: 0.7781\n",
      "Epoch 9/30\n",
      "99/99 [==============================] - 229s 2s/step - loss: 0.5154 - accuracy: 0.8217 - val_loss: 0.6570 - val_accuracy: 0.7951\n",
      "Epoch 10/30\n",
      "99/99 [==============================] - 227s 2s/step - loss: 0.4873 - accuracy: 0.8315 - val_loss: 0.6128 - val_accuracy: 0.8099\n",
      "Epoch 11/30\n",
      "99/99 [==============================] - 240s 2s/step - loss: 0.4533 - accuracy: 0.8332 - val_loss: 0.6381 - val_accuracy: 0.8058\n",
      "Epoch 12/30\n",
      "99/99 [==============================] - 249s 3s/step - loss: 0.4437 - accuracy: 0.8434 - val_loss: 0.5903 - val_accuracy: 0.8173\n",
      "Epoch 13/30\n",
      "99/99 [==============================] - 383s 4s/step - loss: 0.4116 - accuracy: 0.8540 - val_loss: 0.6584 - val_accuracy: 0.7903\n",
      "Epoch 14/30\n",
      "99/99 [==============================] - 326s 3s/step - loss: 0.4058 - accuracy: 0.8537 - val_loss: 0.5754 - val_accuracy: 0.8236\n",
      "Epoch 15/30\n",
      "99/99 [==============================] - 245s 2s/step - loss: 0.3863 - accuracy: 0.8659 - val_loss: 0.5713 - val_accuracy: 0.8288\n",
      "Epoch 16/30\n",
      "99/99 [==============================] - 236s 2s/step - loss: 0.3513 - accuracy: 0.8733 - val_loss: 0.5694 - val_accuracy: 0.8291\n",
      "Epoch 17/30\n",
      "99/99 [==============================] - 241s 2s/step - loss: 0.3397 - accuracy: 0.8776 - val_loss: 0.5615 - val_accuracy: 0.8251\n",
      "Epoch 18/30\n",
      "99/99 [==============================] - 238s 2s/step - loss: 0.3364 - accuracy: 0.8819 - val_loss: 0.5580 - val_accuracy: 0.8295\n",
      "Epoch 19/30\n",
      "99/99 [==============================] - 230s 2s/step - loss: 0.3229 - accuracy: 0.8832 - val_loss: 0.5551 - val_accuracy: 0.8354\n",
      "Epoch 20/30\n",
      "99/99 [==============================] - 225s 2s/step - loss: 0.3029 - accuracy: 0.8909 - val_loss: 0.5354 - val_accuracy: 0.8354\n",
      "Epoch 21/30\n",
      "99/99 [==============================] - 234s 2s/step - loss: 0.2920 - accuracy: 0.8943 - val_loss: 0.5349 - val_accuracy: 0.8391\n",
      "Epoch 22/30\n",
      "99/99 [==============================] - 229s 2s/step - loss: 0.2814 - accuracy: 0.8979 - val_loss: 0.5415 - val_accuracy: 0.8351\n",
      "Epoch 23/30\n",
      "99/99 [==============================] - 238s 2s/step - loss: 0.2792 - accuracy: 0.9006 - val_loss: 0.5232 - val_accuracy: 0.8376\n",
      "Epoch 24/30\n",
      "99/99 [==============================] - 239s 2s/step - loss: 0.2731 - accuracy: 0.9012 - val_loss: 0.5326 - val_accuracy: 0.8388\n",
      "Epoch 25/30\n",
      "99/99 [==============================] - 239s 2s/step - loss: 0.2647 - accuracy: 0.9042 - val_loss: 0.5285 - val_accuracy: 0.8373\n",
      "Epoch 26/30\n",
      "99/99 [==============================] - 244s 2s/step - loss: 0.2528 - accuracy: 0.9058 - val_loss: 0.5260 - val_accuracy: 0.8358\n",
      "Epoch 27/30\n",
      "99/99 [==============================] - 241s 2s/step - loss: 0.2417 - accuracy: 0.9131 - val_loss: 0.5152 - val_accuracy: 0.8432\n",
      "Epoch 28/30\n",
      "99/99 [==============================] - 320s 3s/step - loss: 0.2368 - accuracy: 0.9144 - val_loss: 0.5278 - val_accuracy: 0.8432\n",
      "Epoch 29/30\n",
      "99/99 [==============================] - 453s 5s/step - loss: 0.2257 - accuracy: 0.9166 - val_loss: 0.5194 - val_accuracy: 0.8436\n",
      "Epoch 30/30\n",
      "99/99 [==============================] - 285s 3s/step - loss: 0.2172 - accuracy: 0.9211 - val_loss: 0.5371 - val_accuracy: 0.8395\n"
     ]
    }
   ],
   "source": [
    "# Train the network\n",
    "print(\"[INFO] training network...\")\n",
    "H = model.fit(X_train, y_train,validation_data=(X_test,y_test),\n",
    "\tbatch_size=64, epochs=30, verbose=1)"
   ]
  },
  {
   "cell_type": "code",
   "execution_count": 22,
   "metadata": {},
   "outputs": [
    {
     "name": "stdout",
     "output_type": "stream",
     "text": [
      "85/85 [==============================] - 15s 181ms/step - loss: 0.5371 - accuracy: 0.8395\n",
      "Test loss: 0.5371479988098145\n",
      "Test accuracy: 0.8394970297813416\n"
     ]
    }
   ],
   "source": [
    "scores = model.evaluate(X_test, y_test, verbose=1)\n",
    "print('Test loss:', scores[0])\n",
    "print('Test accuracy:', scores[1])"
   ]
  },
  {
   "cell_type": "code",
   "execution_count": 23,
   "metadata": {},
   "outputs": [],
   "source": [
    "model.save('DEEPTYPEclean_VGG.h5')"
   ]
  },
  {
   "cell_type": "code",
   "execution_count": 24,
   "metadata": {},
   "outputs": [
    {
     "data": {
      "image/png": "[encoded data removed]",
      "text/plain": [
       "<Figure size 432x288 with 1 Axes>"
      ]
     },
     "metadata": {
      "needs_background": "light"
     },
     "output_type": "display_data"
    }
   ],
   "source": [
    "import keras\n",
    "from matplotlib import pyplot as plt\n",
    "\n",
    "plt.plot(H.history['accuracy'])\n",
    "plt.plot(H.history['val_accuracy'])\n",
    "plt.title('model accuracy')\n",
    "plt.ylabel('accuracy')\n",
    "plt.xlabel('epoch')\n",
    "plt.legend(['train', 'val'], loc='upper left')\n",
    "#plt.show()\n",
    "plt.savefig('Training and Validation accuracy.png')"
   ]
  },
  {
   "cell_type": "code",
   "execution_count": 25,
   "metadata": {},
   "outputs": [
    {
     "data": {
      "image/png": "[encoded data removed]",
      "text/plain": [
       "<Figure size 432x288 with 1 Axes>"
      ]
     },
     "metadata": {
      "needs_background": "light"
     },
     "output_type": "display_data"
    }
   ],
   "source": [
    "plt.plot(H.history['loss'])\n",
    "plt.plot(H.history['val_loss'])\n",
    "plt.title('model loss')\n",
    "plt.ylabel('loss')\n",
    "plt.xlabel('epoch')\n",
    "plt.legend(['train', 'val'], loc='upper left')\n",
    "plt.show()"
   ]
  },
  {
   "cell_type": "code",
   "execution_count": 26,
   "metadata": {},
   "outputs": [
    {
     "name": "stdout",
     "output_type": "stream",
     "text": [
      "WARNING:tensorflow:From <ipython-input-26-9a8fabb6c846>:2: Sequential.predict_classes (from tensorflow.python.keras.engine.sequential) is deprecated and will be removed after 2021-01-01.\n",
      "Instructions for updating:\n",
      "Please use instead:* `np.argmax(model.predict(x), axis=-1)`,   if your model does multi-class classification   (e.g. if it uses a `softmax` last-layer activation).* `(model.predict(x) > 0.5).astype(\"int32\")`,   if your model does binary classification   (e.g. if it uses a `sigmoid` last-layer activation).\n"
     ]
    }
   ],
   "source": [
    "# make a prediction\n",
    "y_train_predict = model.predict_classes(X_train)\n"
   ]
  },
  {
   "cell_type": "code",
   "execution_count": 28,
   "metadata": {},
   "outputs": [],
   "source": [
    "y_test_predict = model.predict_classes(X_test)"
   ]
  },
  {
   "cell_type": "code",
   "execution_count": 29,
   "metadata": {},
   "outputs": [
    {
     "data": {
      "text/plain": [
       "(6.0, 0.0)"
      ]
     },
     "execution_count": 29,
     "metadata": {},
     "output_type": "execute_result"
    },
    {
     "data": {
      "image/png": "[encoded data removed]",
      "text/plain": [
       "<Figure size 432x288 with 2 Axes>"
      ]
     },
     "metadata": {
      "needs_background": "light"
     },
     "output_type": "display_data"
    }
   ],
   "source": [
    "cm = confusion_matrix(y_test, y_test_predict)\n",
    "#plt.figure(figsize=(10, 10))\n",
    "#plt.figure(figsize=(10, 9))\n",
    "plt.title('Confusion matrix for test ')\n",
    "ax=sns.heatmap(cm, annot=True, fmt=\"d\")\n",
    "ax.set_ylim(sorted(ax.get_xlim(), reverse=True))\n",
    "\n"
   ]
  },
  {
   "cell_type": "code",
   "execution_count": 30,
   "metadata": {},
   "outputs": [
    {
     "name": "stdout",
     "output_type": "stream",
     "text": [
      "              precision    recall  f1-score   support\n",
      "\n",
      "           0       0.75      0.80      0.78       410\n",
      "           1       0.82      0.53      0.64       467\n",
      "           2       0.75      0.87      0.81       462\n",
      "           3       0.88      0.88      0.88       478\n",
      "           4       0.90      1.00      0.95       432\n",
      "           5       0.93      0.96      0.95       455\n",
      "\n",
      "    accuracy                           0.84      2704\n",
      "   macro avg       0.84      0.84      0.83      2704\n",
      "weighted avg       0.84      0.84      0.83      2704\n",
      "\n"
     ]
    }
   ],
   "source": [
    "print(classification_report(y_test,y_test_predict))"
   ]
  }
 ],
 "metadata": {
  "kernelspec": {
   "display_name": "Python 3",
   "language": "python",
   "name": "python3"
  },
  "language_info": {
   "codemirror_mode": {
    "name": "ipython",
    "version": 3
   },
   "file_extension": ".py",
   "mimetype": "text/x-python",
   "name": "python",
   "nbconvert_exporter": "python",
   "pygments_lexer": "ipython3",
   "version": "3.7.10"
  }
 },
 "nbformat": 4,
 "nbformat_minor": 2
}
