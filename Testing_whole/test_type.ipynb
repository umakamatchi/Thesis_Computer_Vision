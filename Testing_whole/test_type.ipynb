{
 "cells": [
  {
   "cell_type": "code",
   "execution_count": null,
   "id": "coordinate-possibility",
   "metadata": {},
   "outputs": [],
   "source": [
    "from preprocessing import ModelPreProcessor"
   ]
  },
  {
   "cell_type": "code",
   "execution_count": null,
   "id": "ancient-october",
   "metadata": {},
   "outputs": [],
   "source": [
    "from tensorflow.keras.models import load_model\n",
    "from imutils import paths\n",
    "from preprocessing import ImageToArrayPreprocessor\n",
    "from preprocessing import SimplePreprocessor\n",
    "from datasets import SimpleDatasetLoader\n",
    "import numpy as np\n",
    "import argparse\n",
    "import cv2\n",
    "\n",
    "class ModelPreProcessor:\n",
    "  def __init__(self,dataSetPath, model, classLabels):\n",
    "    self.dataSet = dataSetPath\n",
    "    self.model = model\n",
    "    self.labels = classLabels\n",
    "\n",
    "  def Process(self):\n",
    "    print(\"Hello my name is \" + self.labels[0])\n",
    "    print(\"[INFO] sampling images...\")\n",
    "    imagePaths = np.array(list(paths.list_images(self.dataSet)))\n",
    "    idxs = np.random.randint(0, len(imagePaths), size=(10,))\n",
    "    imagePaths = imagePaths[idxs]\n",
    "\t #initialize the image preprocessors\n",
    "    sp = SimplePreprocessor(100, 100)\n",
    "    iap = ImageToArrayPreprocessor()\n",
    "\t# load the dataset from disk then scale the raw pixel intensities\n",
    "\t# to the range [0, 1]\n",
    "    sdl = SimpleDatasetLoader(preprocessors=[sp, iap])\n",
    "    (data, labels) = sdl.load(imagePaths)\n",
    "    data = data.astype(\"float\") / 255.0\n",
    "\t# load the CNN_color-trained network\n",
    "    print(\"[INFO] loading CNN-Color_trained network...\")\n",
    "    model = load_model(self.model)\n",
    "    print(\"[INFO] predicting...\")\n",
    "    preds = model.predict(data, batch_size=32).argmax(axis=1)\n",
    "\t#print(preds)\n",
    "\t# loop over the sample images\n",
    "    for (i, imagePath) in enumerate(imagePaths):\n",
    "\t\t# load the example image, draw the prediction, and display it\n",
    "\t\t# to our screen\n",
    "        #print(imagepaths)\n",
    "        image = cv2.imread(imagePath)\n",
    "        cv2.putText(image, \"Label: {}\".format(self.labels[preds[i]]),\n",
    "        (10, 30), cv2.FONT_HERSHEY_SIMPLEX, 0.7, (0, 255, 0), 2)\n",
    "        cv2.imwrite(\"Image_out2.jpeg\", image)\n",
    "        cv2.waitKey(0)\n",
    "        cv2.destroyAllWindows()\n",
    "    print('Out of loop')  "
   ]
  },
  {
   "cell_type": "code",
   "execution_count": null,
   "id": "further-killer",
   "metadata": {},
   "outputs": [],
   "source": [
    "p1=ModelPreProcessor(\"C:\\\\Users\\\\Uma\\\\Desktop\\\\test_alert\\\\\", \"typecleandropout1_VGG.h5\",[\"Bus\", \"Truck\",\"Motorcycle\",\"Van\",\"suv\",\"sedan\"])"
   ]
  },
  {
   "cell_type": "code",
   "execution_count": null,
   "id": "minus-decision",
   "metadata": {},
   "outputs": [],
   "source": [
    "p1.Process()"
   ]
  },
  {
   "cell_type": "code",
   "execution_count": null,
   "id": "convinced-silicon",
   "metadata": {},
   "outputs": [],
   "source": [
    "#import python file"
   ]
  },
  {
   "cell_type": "code",
   "execution_count": null,
   "id": "formal-romantic",
   "metadata": {},
   "outputs": [],
   "source": [
    "from preprocessing import preprocess"
   ]
  },
  {
   "cell_type": "code",
   "execution_count": null,
   "id": "identified-server",
   "metadata": {},
   "outputs": [],
   "source": [
    "p1 = ModelPreProcessor(\"C:\\\\Users\\\\Uma\\\\Desktop\\\\test_alert\\\\\", \"typecleandropout1_VGG.h5\",[\"Bus\", \"Truck\",\"Motorcycle\",\"Van\",\"suv\",\"sedan\"])"
   ]
  },
  {
   "cell_type": "code",
   "execution_count": null,
   "id": "noticed-replication",
   "metadata": {},
   "outputs": [],
   "source": [
    "p1.Process()"
   ]
  },
  {
   "cell_type": "code",
   "execution_count": null,
   "id": "instant-spokesman",
   "metadata": {},
   "outputs": [],
   "source": [
    "p2 = ModelPreProcessor(\"C:\\\\Users\\\\Uma\\\\Desktop\\\\test_alert\\\\\", \"Colorfinal_VGG.h5\",[\"black\", \"blue\",\"cyan\",\"gray\",\"green\",\"white\",\"yellow\"])"
   ]
  }
 ],
 "metadata": {
  "kernelspec": {
   "display_name": "Python 3",
   "language": "python",
   "name": "python3"
  },
  "language_info": {
   "codemirror_mode": {
    "name": "ipython",
    "version": 3
   },
   "file_extension": ".py",
   "mimetype": "text/x-python",
   "name": "python",
   "nbconvert_exporter": "python",
   "pygments_lexer": "ipython3",
   "version": "3.7.10"
  }
 },
 "nbformat": 4,
 "nbformat_minor": 5
}
